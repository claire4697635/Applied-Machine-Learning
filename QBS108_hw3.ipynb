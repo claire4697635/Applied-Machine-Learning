{
 "cells": [
  {
   "cell_type": "markdown",
   "metadata": {},
   "source": [
    "# QBS 108 Machine Learning Assignment 3\n",
    "\n",
    "\n",
    "### 1. t-SNE for Data Visualization\n",
    "\n",
    "#### (a):\n",
    "reference: http://theprofessionalspoint.blogspot.com/2019/03/advantages-and-disadvantages-of-t-sne.html\n",
    "\n",
    "t-SNE is a dimensionality reduction machine learning method, or so called an embedding method. The embedding method can map high dimensional data points to low dimensional space. Specifically, t-SNE is a non-linear mapping method.\n",
    "\n",
    "In terms of its advantages, it can be used to visualize high-dimensional datasets; it can preserve local structure that points which are close to one another in the high-dimensional data set will tend to be close to one another in the chart; it can handle non-linear data compared to PCA.\n",
    "\n",
    "#### (b):"
   ]
  },
  {
   "cell_type": "code",
   "execution_count": 287,
   "metadata": {},
   "outputs": [
    {
     "data": {
      "text/html": [
       "<div>\n",
       "<style scoped>\n",
       "    .dataframe tbody tr th:only-of-type {\n",
       "        vertical-align: middle;\n",
       "    }\n",
       "\n",
       "    .dataframe tbody tr th {\n",
       "        vertical-align: top;\n",
       "    }\n",
       "\n",
       "    .dataframe thead th {\n",
       "        text-align: right;\n",
       "    }\n",
       "</style>\n",
       "<table border=\"1\" class=\"dataframe\">\n",
       "  <thead>\n",
       "    <tr style=\"text-align: right;\">\n",
       "      <th></th>\n",
       "      <th>Cancer</th>\n",
       "      <th>gene_13968</th>\n",
       "      <th>gene_18617</th>\n",
       "      <th>gene_20131</th>\n",
       "      <th>gene_12738</th>\n",
       "      <th>gene_5337</th>\n",
       "      <th>gene_20496</th>\n",
       "      <th>gene_3408</th>\n",
       "      <th>gene_15234</th>\n",
       "      <th>gene_2833</th>\n",
       "      <th>...</th>\n",
       "      <th>gene_4911</th>\n",
       "      <th>gene_4915</th>\n",
       "      <th>gene_521</th>\n",
       "      <th>gene_8588</th>\n",
       "      <th>gene_7758</th>\n",
       "      <th>gene_7221</th>\n",
       "      <th>gene_8787</th>\n",
       "      <th>gene_12582</th>\n",
       "      <th>gene_19923</th>\n",
       "      <th>gene_7505</th>\n",
       "    </tr>\n",
       "    <tr>\n",
       "      <th>Patient</th>\n",
       "      <th></th>\n",
       "      <th></th>\n",
       "      <th></th>\n",
       "      <th></th>\n",
       "      <th></th>\n",
       "      <th></th>\n",
       "      <th></th>\n",
       "      <th></th>\n",
       "      <th></th>\n",
       "      <th></th>\n",
       "      <th></th>\n",
       "      <th></th>\n",
       "      <th></th>\n",
       "      <th></th>\n",
       "      <th></th>\n",
       "      <th></th>\n",
       "      <th></th>\n",
       "      <th></th>\n",
       "      <th></th>\n",
       "      <th></th>\n",
       "      <th></th>\n",
       "    </tr>\n",
       "  </thead>\n",
       "  <tbody>\n",
       "    <tr>\n",
       "      <td>sample_100</td>\n",
       "      <td>BRCA</td>\n",
       "      <td>8.591709</td>\n",
       "      <td>0.0</td>\n",
       "      <td>7.092408</td>\n",
       "      <td>9.142789</td>\n",
       "      <td>5.805636</td>\n",
       "      <td>7.033654</td>\n",
       "      <td>9.370833</td>\n",
       "      <td>5.209453</td>\n",
       "      <td>2.662957</td>\n",
       "      <td>...</td>\n",
       "      <td>8.238725</td>\n",
       "      <td>9.715028</td>\n",
       "      <td>8.106783</td>\n",
       "      <td>0.341075</td>\n",
       "      <td>9.342075</td>\n",
       "      <td>8.044028</td>\n",
       "      <td>0.0</td>\n",
       "      <td>0.0</td>\n",
       "      <td>0.000000</td>\n",
       "      <td>0.616640</td>\n",
       "    </tr>\n",
       "    <tr>\n",
       "      <td>sample_102</td>\n",
       "      <td>BRCA</td>\n",
       "      <td>8.801388</td>\n",
       "      <td>0.0</td>\n",
       "      <td>5.891225</td>\n",
       "      <td>8.094901</td>\n",
       "      <td>3.039454</td>\n",
       "      <td>5.237969</td>\n",
       "      <td>9.180374</td>\n",
       "      <td>4.675483</td>\n",
       "      <td>3.039454</td>\n",
       "      <td>...</td>\n",
       "      <td>5.235980</td>\n",
       "      <td>8.728067</td>\n",
       "      <td>7.949056</td>\n",
       "      <td>0.366140</td>\n",
       "      <td>9.433381</td>\n",
       "      <td>5.422445</td>\n",
       "      <td>0.0</td>\n",
       "      <td>0.0</td>\n",
       "      <td>2.632198</td>\n",
       "      <td>9.340010</td>\n",
       "    </tr>\n",
       "    <tr>\n",
       "      <td>sample_111</td>\n",
       "      <td>BRCA</td>\n",
       "      <td>8.612400</td>\n",
       "      <td>0.0</td>\n",
       "      <td>6.125393</td>\n",
       "      <td>7.892027</td>\n",
       "      <td>4.830783</td>\n",
       "      <td>5.890634</td>\n",
       "      <td>9.768285</td>\n",
       "      <td>5.335144</td>\n",
       "      <td>4.912295</td>\n",
       "      <td>...</td>\n",
       "      <td>6.274644</td>\n",
       "      <td>9.391233</td>\n",
       "      <td>7.007846</td>\n",
       "      <td>0.000000</td>\n",
       "      <td>9.637172</td>\n",
       "      <td>6.409890</td>\n",
       "      <td>0.0</td>\n",
       "      <td>0.0</td>\n",
       "      <td>0.412294</td>\n",
       "      <td>9.418873</td>\n",
       "    </tr>\n",
       "    <tr>\n",
       "      <td>sample_114</td>\n",
       "      <td>BRCA</td>\n",
       "      <td>8.293775</td>\n",
       "      <td>0.0</td>\n",
       "      <td>5.747242</td>\n",
       "      <td>8.353469</td>\n",
       "      <td>3.768322</td>\n",
       "      <td>5.979115</td>\n",
       "      <td>9.321678</td>\n",
       "      <td>6.105724</td>\n",
       "      <td>2.519743</td>\n",
       "      <td>...</td>\n",
       "      <td>8.646094</td>\n",
       "      <td>9.354020</td>\n",
       "      <td>7.111772</td>\n",
       "      <td>0.000000</td>\n",
       "      <td>9.209232</td>\n",
       "      <td>8.052677</td>\n",
       "      <td>0.0</td>\n",
       "      <td>0.0</td>\n",
       "      <td>0.000000</td>\n",
       "      <td>8.573837</td>\n",
       "    </tr>\n",
       "    <tr>\n",
       "      <td>sample_118</td>\n",
       "      <td>BRCA</td>\n",
       "      <td>8.776821</td>\n",
       "      <td>0.0</td>\n",
       "      <td>7.026391</td>\n",
       "      <td>7.372264</td>\n",
       "      <td>3.824371</td>\n",
       "      <td>5.639357</td>\n",
       "      <td>9.588062</td>\n",
       "      <td>5.239612</td>\n",
       "      <td>4.041331</td>\n",
       "      <td>...</td>\n",
       "      <td>10.725682</td>\n",
       "      <td>9.139298</td>\n",
       "      <td>8.196587</td>\n",
       "      <td>0.000000</td>\n",
       "      <td>9.473982</td>\n",
       "      <td>4.245861</td>\n",
       "      <td>0.0</td>\n",
       "      <td>0.0</td>\n",
       "      <td>0.273814</td>\n",
       "      <td>9.252138</td>\n",
       "    </tr>\n",
       "  </tbody>\n",
       "</table>\n",
       "<p>5 rows × 76 columns</p>\n",
       "</div>"
      ],
      "text/plain": [
       "           Cancer  gene_13968  gene_18617  gene_20131  gene_12738  gene_5337  \\\n",
       "Patient                                                                        \n",
       "sample_100   BRCA    8.591709         0.0    7.092408    9.142789   5.805636   \n",
       "sample_102   BRCA    8.801388         0.0    5.891225    8.094901   3.039454   \n",
       "sample_111   BRCA    8.612400         0.0    6.125393    7.892027   4.830783   \n",
       "sample_114   BRCA    8.293775         0.0    5.747242    8.353469   3.768322   \n",
       "sample_118   BRCA    8.776821         0.0    7.026391    7.372264   3.824371   \n",
       "\n",
       "            gene_20496  gene_3408  gene_15234  gene_2833  ...  gene_4911  \\\n",
       "Patient                                                   ...              \n",
       "sample_100    7.033654   9.370833    5.209453   2.662957  ...   8.238725   \n",
       "sample_102    5.237969   9.180374    4.675483   3.039454  ...   5.235980   \n",
       "sample_111    5.890634   9.768285    5.335144   4.912295  ...   6.274644   \n",
       "sample_114    5.979115   9.321678    6.105724   2.519743  ...   8.646094   \n",
       "sample_118    5.639357   9.588062    5.239612   4.041331  ...  10.725682   \n",
       "\n",
       "            gene_4915  gene_521  gene_8588  gene_7758  gene_7221  gene_8787  \\\n",
       "Patient                                                                       \n",
       "sample_100   9.715028  8.106783   0.341075   9.342075   8.044028        0.0   \n",
       "sample_102   8.728067  7.949056   0.366140   9.433381   5.422445        0.0   \n",
       "sample_111   9.391233  7.007846   0.000000   9.637172   6.409890        0.0   \n",
       "sample_114   9.354020  7.111772   0.000000   9.209232   8.052677        0.0   \n",
       "sample_118   9.139298  8.196587   0.000000   9.473982   4.245861        0.0   \n",
       "\n",
       "            gene_12582  gene_19923  gene_7505  \n",
       "Patient                                        \n",
       "sample_100         0.0    0.000000   0.616640  \n",
       "sample_102         0.0    2.632198   9.340010  \n",
       "sample_111         0.0    0.412294   9.418873  \n",
       "sample_114         0.0    0.000000   8.573837  \n",
       "sample_118         0.0    0.273814   9.252138  \n",
       "\n",
       "[5 rows x 76 columns]"
      ]
     },
     "execution_count": 287,
     "metadata": {},
     "output_type": "execute_result"
    }
   ],
   "source": [
    "import numpy as np\n",
    "import pandas as pd\n",
    "import matplotlib.pyplot as plt\n",
    "cancer = pd.read_csv('cancer_gene-expression_data_for_tsne.csv', index_col=0)\n",
    "cancer.head()"
   ]
  },
  {
   "cell_type": "code",
   "execution_count": 288,
   "metadata": {},
   "outputs": [],
   "source": [
    "y_subset = cancer.iloc[:,0]\n",
    "x_subset = cancer.iloc[:,1:]\n"
   ]
  },
  {
   "cell_type": "code",
   "execution_count": 289,
   "metadata": {},
   "outputs": [
    {
     "data": {
      "text/plain": [
       "['BRCA', 'COAD', 'KIRC', 'LUAD', 'PRAD']"
      ]
     },
     "execution_count": 289,
     "metadata": {},
     "output_type": "execute_result"
    }
   ],
   "source": [
    "sorted(y_subset.unique())"
   ]
  },
  {
   "cell_type": "code",
   "execution_count": 290,
   "metadata": {},
   "outputs": [],
   "source": [
    "# Import LabelEncoder\n",
    "from sklearn import preprocessing\n",
    "#creating labelEncoder\n",
    "le = preprocessing.LabelEncoder()\n",
    "# Converting y (string labels) into numbers.\n",
    "y=le.fit_transform(y_subset)\n",
    "# BRCA = 0, COAD = 1, KIRC = 2, LUAD = 3, PRAD = 4"
   ]
  },
  {
   "cell_type": "code",
   "execution_count": 291,
   "metadata": {},
   "outputs": [],
   "source": [
    "# reference: https://www.datacamp.com/community/tutorials/introduction-t-sne\n",
    "from sklearn.manifold import TSNE\n",
    "np.random.seed(10)\n",
    "tsne = TSNE(n_components=2)\n",
    "tsne_results = tsne.fit_transform(x_subset)"
   ]
  },
  {
   "cell_type": "code",
   "execution_count": 292,
   "metadata": {},
   "outputs": [
    {
     "data": {
      "text/plain": [
       "<matplotlib.legend.Legend at 0x145a23690>"
      ]
     },
     "execution_count": 292,
     "metadata": {},
     "output_type": "execute_result"
    },
    {
     "data": {
      "image/png": "[encoded data removed]",
      "text/plain": [
       "<Figure size 432x288 with 1 Axes>"
      ]
     },
     "metadata": {
      "needs_background": "light"
     },
     "output_type": "display_data"
    }
   ],
   "source": [
    "classes = ['BRCA', 'COAD', 'KIRC', 'LUAD', 'PRAD']\n",
    "scatter = plt.scatter(tsne_results[:,0],tsne_results[:,1],  c = y, alpha=0.5)\n",
    "plt.legend(handles=scatter.legend_elements()[0], labels=classes)"
   ]
  },
  {
   "cell_type": "markdown",
   "metadata": {},
   "source": [
    "From the scatter plot, we can clearly see how the data are spaced apart and grouped together. We notice that all four cancer types except COAD have more than one cluster. For example, BRCA (purple) have a major cluster on the top right, and two smaller parts. Similarly, PRAD (yellow) have one major cluster at the bottom right and a smaller cluster a little towards its top right direction. By using the model above, we cannot clearly separate each cancer type apart.\n",
    "\n",
    "#### (c):"
   ]
  },
  {
   "cell_type": "code",
   "execution_count": 294,
   "metadata": {},
   "outputs": [
    {
     "data": {
      "text/plain": [
       "<matplotlib.legend.Legend at 0x144df2410>"
      ]
     },
     "execution_count": 294,
     "metadata": {},
     "output_type": "execute_result"
    },
    {
     "data": {
      "image/png": "[encoded data removed]",
      "text/plain": [
       "<Figure size 432x288 with 1 Axes>"
      ]
     },
     "metadata": {
      "needs_background": "light"
     },
     "output_type": "display_data"
    }
   ],
   "source": [
    "np.random.seed(10)\n",
    "tsne1 = TSNE(n_components=2, perplexity=50, learning_rate= 100, n_iter=1500)\n",
    "tsne_results1 = tsne1.fit_transform(x_subset)\n",
    "\n",
    "scatter1 = plt.scatter(tsne_results1[:,0],tsne_results1[:,1],  c = y, alpha=0.5)\n",
    "plt.legend(handles=scatter1.legend_elements()[0], labels=classes)"
   ]
  },
  {
   "cell_type": "markdown",
   "metadata": {},
   "source": [
    "By tuning perplexity, learning rate, and number of iterations, we can slightly make the model better by reducing the data being mixed up with different cancer types.But still, the 5 cancer types are not well separated - we expect to have only one cluster for each type."
   ]
  },
  {
   "cell_type": "markdown",
   "metadata": {},
   "source": [
    "#### (d) limitations of t-SNE:\n",
    "reference: https://mlexplained.com/2018/09/14/paper-dissected-visualizing-data-using-t-sne-explained/\n",
    "1. Unlike methods like PCA,  t-SNE is non-convex, meaning it has multiple local minima and is therefore much more difficult to optimize. Everytime when the code is run, I got different result and plot.\n",
    "\n",
    "2. It still assumes that the local structure of the manifold is linear. This may seem like a relatively benign assumption, but in complex manifolds where even the local structure is complex, this poses a significant problem.\n"
   ]
  },
  {
   "cell_type": "markdown",
   "metadata": {},
   "source": [
    "### 2. Feed-forward Neural Network for Binary Classification:"
   ]
  },
  {
   "cell_type": "code",
   "execution_count": 3,
   "metadata": {},
   "outputs": [],
   "source": [
    "labeled = pd.read_csv('hw3_labeled_data.csv', index_col=0)\n",
    "unlabeled = pd.read_csv('hw3_unlabeled_data.csv', index_col=0)"
   ]
  },
  {
   "cell_type": "code",
   "execution_count": 4,
   "metadata": {},
   "outputs": [
    {
     "data": {
      "text/html": [
       "<div>\n",
       "<style scoped>\n",
       "    .dataframe tbody tr th:only-of-type {\n",
       "        vertical-align: middle;\n",
       "    }\n",
       "\n",
       "    .dataframe tbody tr th {\n",
       "        vertical-align: top;\n",
       "    }\n",
       "\n",
       "    .dataframe thead th {\n",
       "        text-align: right;\n",
       "    }\n",
       "</style>\n",
       "<table border=\"1\" class=\"dataframe\">\n",
       "  <thead>\n",
       "    <tr style=\"text-align: right;\">\n",
       "      <th></th>\n",
       "      <th>age</th>\n",
       "      <th>bp</th>\n",
       "      <th>sg</th>\n",
       "      <th>al</th>\n",
       "      <th>su</th>\n",
       "      <th>rbc</th>\n",
       "      <th>pc</th>\n",
       "      <th>pcc</th>\n",
       "      <th>ba</th>\n",
       "      <th>bgr</th>\n",
       "      <th>...</th>\n",
       "      <th>pcv</th>\n",
       "      <th>wc</th>\n",
       "      <th>rc</th>\n",
       "      <th>htn</th>\n",
       "      <th>dm</th>\n",
       "      <th>cad</th>\n",
       "      <th>appet</th>\n",
       "      <th>pe</th>\n",
       "      <th>ane</th>\n",
       "      <th>classification</th>\n",
       "    </tr>\n",
       "  </thead>\n",
       "  <tbody>\n",
       "    <tr>\n",
       "      <td>patient_0</td>\n",
       "      <td>70</td>\n",
       "      <td>70</td>\n",
       "      <td>1.010</td>\n",
       "      <td>1</td>\n",
       "      <td>0</td>\n",
       "      <td>1</td>\n",
       "      <td>0</td>\n",
       "      <td>1</td>\n",
       "      <td>1</td>\n",
       "      <td>171</td>\n",
       "      <td>...</td>\n",
       "      <td>33</td>\n",
       "      <td>19100</td>\n",
       "      <td>3.6</td>\n",
       "      <td>0</td>\n",
       "      <td>1</td>\n",
       "      <td>0</td>\n",
       "      <td>0</td>\n",
       "      <td>0</td>\n",
       "      <td>0</td>\n",
       "      <td>1</td>\n",
       "    </tr>\n",
       "    <tr>\n",
       "      <td>patient_1</td>\n",
       "      <td>52</td>\n",
       "      <td>100</td>\n",
       "      <td>1.015</td>\n",
       "      <td>3</td>\n",
       "      <td>0</td>\n",
       "      <td>1</td>\n",
       "      <td>0</td>\n",
       "      <td>1</td>\n",
       "      <td>0</td>\n",
       "      <td>138</td>\n",
       "      <td>...</td>\n",
       "      <td>33</td>\n",
       "      <td>9600</td>\n",
       "      <td>4.0</td>\n",
       "      <td>1</td>\n",
       "      <td>1</td>\n",
       "      <td>0</td>\n",
       "      <td>1</td>\n",
       "      <td>0</td>\n",
       "      <td>1</td>\n",
       "      <td>1</td>\n",
       "    </tr>\n",
       "    <tr>\n",
       "      <td>patient_2</td>\n",
       "      <td>71</td>\n",
       "      <td>70</td>\n",
       "      <td>1.020</td>\n",
       "      <td>0</td>\n",
       "      <td>0</td>\n",
       "      <td>1</td>\n",
       "      <td>1</td>\n",
       "      <td>0</td>\n",
       "      <td>0</td>\n",
       "      <td>81</td>\n",
       "      <td>...</td>\n",
       "      <td>44</td>\n",
       "      <td>9800</td>\n",
       "      <td>6.0</td>\n",
       "      <td>0</td>\n",
       "      <td>0</td>\n",
       "      <td>0</td>\n",
       "      <td>1</td>\n",
       "      <td>0</td>\n",
       "      <td>0</td>\n",
       "      <td>0</td>\n",
       "    </tr>\n",
       "    <tr>\n",
       "      <td>patient_3</td>\n",
       "      <td>57</td>\n",
       "      <td>80</td>\n",
       "      <td>1.015</td>\n",
       "      <td>0</td>\n",
       "      <td>0</td>\n",
       "      <td>0</td>\n",
       "      <td>1</td>\n",
       "      <td>0</td>\n",
       "      <td>0</td>\n",
       "      <td>123</td>\n",
       "      <td>...</td>\n",
       "      <td>22</td>\n",
       "      <td>4300</td>\n",
       "      <td>3.0</td>\n",
       "      <td>1</td>\n",
       "      <td>1</td>\n",
       "      <td>0</td>\n",
       "      <td>1</td>\n",
       "      <td>0</td>\n",
       "      <td>1</td>\n",
       "      <td>1</td>\n",
       "    </tr>\n",
       "    <tr>\n",
       "      <td>patient_4</td>\n",
       "      <td>76</td>\n",
       "      <td>70</td>\n",
       "      <td>1.015</td>\n",
       "      <td>1</td>\n",
       "      <td>0</td>\n",
       "      <td>1</td>\n",
       "      <td>1</td>\n",
       "      <td>0</td>\n",
       "      <td>0</td>\n",
       "      <td>92</td>\n",
       "      <td>...</td>\n",
       "      <td>32</td>\n",
       "      <td>9600</td>\n",
       "      <td>4.1</td>\n",
       "      <td>1</td>\n",
       "      <td>0</td>\n",
       "      <td>0</td>\n",
       "      <td>1</td>\n",
       "      <td>0</td>\n",
       "      <td>0</td>\n",
       "      <td>1</td>\n",
       "    </tr>\n",
       "  </tbody>\n",
       "</table>\n",
       "<p>5 rows × 25 columns</p>\n",
       "</div>"
      ],
      "text/plain": [
       "           age   bp     sg  al  su  rbc  pc  pcc  ba  bgr  ...  pcv     wc  \\\n",
       "patient_0   70   70  1.010   1   0    1   0    1   1  171  ...   33  19100   \n",
       "patient_1   52  100  1.015   3   0    1   0    1   0  138  ...   33   9600   \n",
       "patient_2   71   70  1.020   0   0    1   1    0   0   81  ...   44   9800   \n",
       "patient_3   57   80  1.015   0   0    0   1    0   0  123  ...   22   4300   \n",
       "patient_4   76   70  1.015   1   0    1   1    0   0   92  ...   32   9600   \n",
       "\n",
       "            rc  htn  dm  cad  appet  pe  ane  classification  \n",
       "patient_0  3.6    0   1    0      0   0    0               1  \n",
       "patient_1  4.0    1   1    0      1   0    1               1  \n",
       "patient_2  6.0    0   0    0      1   0    0               0  \n",
       "patient_3  3.0    1   1    0      1   0    1               1  \n",
       "patient_4  4.1    1   0    0      1   0    0               1  \n",
       "\n",
       "[5 rows x 25 columns]"
      ]
     },
     "execution_count": 4,
     "metadata": {},
     "output_type": "execute_result"
    }
   ],
   "source": [
    "labeled.head()"
   ]
  },
  {
   "cell_type": "markdown",
   "metadata": {},
   "source": [
    "#### (a) Exploratory data analysis:"
   ]
  },
  {
   "cell_type": "code",
   "execution_count": 5,
   "metadata": {},
   "outputs": [
    {
     "data": {
      "text/plain": [
       "Text(0, 0.5, 'Density')"
      ]
     },
     "execution_count": 5,
     "metadata": {},
     "output_type": "execute_result"
    },
    {
     "data": {
      "image/png": "[encoded data removed]",
      "text/plain": [
       "<Figure size 432x288 with 1 Axes>"
      ]
     },
     "metadata": {
      "needs_background": "light"
     },
     "output_type": "display_data"
    }
   ],
   "source": [
    "# density and histogram\n",
    "import seaborn as sns\n",
    "sns.distplot(labeled['age'], hist=True, kde=True, color = 'pink', hist_kws={'edgecolor':'black'},kde_kws={'linewidth': 4})\n",
    "plt.title('Histogram of Age')\n",
    "plt.xlabel('Age')\n",
    "plt.ylabel('Density')"
   ]
  },
  {
   "cell_type": "code",
   "execution_count": 6,
   "metadata": {},
   "outputs": [
    {
     "data": {
      "image/png": "[encoded data removed]",
      "text/plain": [
       "<Figure size 432x288 with 1 Axes>"
      ]
     },
     "metadata": {
      "needs_background": "light"
     },
     "output_type": "display_data"
    }
   ],
   "source": [
    "# boxplot\n",
    "boxp = sns.boxplot(data=labeled['age'])"
   ]
  },
  {
   "cell_type": "code",
   "execution_count": 7,
   "metadata": {},
   "outputs": [
    {
     "data": {
      "text/html": [
       "<div>\n",
       "<style scoped>\n",
       "    .dataframe tbody tr th:only-of-type {\n",
       "        vertical-align: middle;\n",
       "    }\n",
       "\n",
       "    .dataframe tbody tr th {\n",
       "        vertical-align: top;\n",
       "    }\n",
       "\n",
       "    .dataframe thead th {\n",
       "        text-align: right;\n",
       "    }\n",
       "</style>\n",
       "<table border=\"1\" class=\"dataframe\">\n",
       "  <thead>\n",
       "    <tr style=\"text-align: right;\">\n",
       "      <th></th>\n",
       "      <th>count</th>\n",
       "      <th>mean</th>\n",
       "      <th>std</th>\n",
       "      <th>min</th>\n",
       "      <th>25%</th>\n",
       "      <th>50%</th>\n",
       "      <th>75%</th>\n",
       "      <th>max</th>\n",
       "    </tr>\n",
       "  </thead>\n",
       "  <tbody>\n",
       "    <tr>\n",
       "      <td>age</td>\n",
       "      <td>300.0</td>\n",
       "      <td>51.74</td>\n",
       "      <td>17.43</td>\n",
       "      <td>4.0</td>\n",
       "      <td>42.00</td>\n",
       "      <td>55.00</td>\n",
       "      <td>65.00</td>\n",
       "      <td>90.00</td>\n",
       "    </tr>\n",
       "    <tr>\n",
       "      <td>bp</td>\n",
       "      <td>300.0</td>\n",
       "      <td>76.17</td>\n",
       "      <td>13.38</td>\n",
       "      <td>50.0</td>\n",
       "      <td>70.00</td>\n",
       "      <td>80.00</td>\n",
       "      <td>80.00</td>\n",
       "      <td>180.00</td>\n",
       "    </tr>\n",
       "    <tr>\n",
       "      <td>sg</td>\n",
       "      <td>300.0</td>\n",
       "      <td>1.02</td>\n",
       "      <td>0.01</td>\n",
       "      <td>1.0</td>\n",
       "      <td>1.01</td>\n",
       "      <td>1.02</td>\n",
       "      <td>1.02</td>\n",
       "      <td>1.02</td>\n",
       "    </tr>\n",
       "    <tr>\n",
       "      <td>al</td>\n",
       "      <td>300.0</td>\n",
       "      <td>0.99</td>\n",
       "      <td>1.33</td>\n",
       "      <td>0.0</td>\n",
       "      <td>0.00</td>\n",
       "      <td>0.00</td>\n",
       "      <td>2.00</td>\n",
       "      <td>5.00</td>\n",
       "    </tr>\n",
       "    <tr>\n",
       "      <td>su</td>\n",
       "      <td>300.0</td>\n",
       "      <td>0.51</td>\n",
       "      <td>1.16</td>\n",
       "      <td>0.0</td>\n",
       "      <td>0.00</td>\n",
       "      <td>0.00</td>\n",
       "      <td>0.00</td>\n",
       "      <td>5.00</td>\n",
       "    </tr>\n",
       "    <tr>\n",
       "      <td>rbc</td>\n",
       "      <td>300.0</td>\n",
       "      <td>0.72</td>\n",
       "      <td>0.45</td>\n",
       "      <td>0.0</td>\n",
       "      <td>0.00</td>\n",
       "      <td>1.00</td>\n",
       "      <td>1.00</td>\n",
       "      <td>1.00</td>\n",
       "    </tr>\n",
       "    <tr>\n",
       "      <td>pc</td>\n",
       "      <td>300.0</td>\n",
       "      <td>0.78</td>\n",
       "      <td>0.42</td>\n",
       "      <td>0.0</td>\n",
       "      <td>1.00</td>\n",
       "      <td>1.00</td>\n",
       "      <td>1.00</td>\n",
       "      <td>1.00</td>\n",
       "    </tr>\n",
       "    <tr>\n",
       "      <td>pcc</td>\n",
       "      <td>300.0</td>\n",
       "      <td>0.10</td>\n",
       "      <td>0.30</td>\n",
       "      <td>0.0</td>\n",
       "      <td>0.00</td>\n",
       "      <td>0.00</td>\n",
       "      <td>0.00</td>\n",
       "      <td>1.00</td>\n",
       "    </tr>\n",
       "    <tr>\n",
       "      <td>ba</td>\n",
       "      <td>300.0</td>\n",
       "      <td>0.05</td>\n",
       "      <td>0.22</td>\n",
       "      <td>0.0</td>\n",
       "      <td>0.00</td>\n",
       "      <td>0.00</td>\n",
       "      <td>0.00</td>\n",
       "      <td>1.00</td>\n",
       "    </tr>\n",
       "    <tr>\n",
       "      <td>bgr</td>\n",
       "      <td>300.0</td>\n",
       "      <td>150.47</td>\n",
       "      <td>80.58</td>\n",
       "      <td>22.0</td>\n",
       "      <td>100.00</td>\n",
       "      <td>122.00</td>\n",
       "      <td>171.00</td>\n",
       "      <td>490.00</td>\n",
       "    </tr>\n",
       "    <tr>\n",
       "      <td>bu</td>\n",
       "      <td>300.0</td>\n",
       "      <td>55.84</td>\n",
       "      <td>48.63</td>\n",
       "      <td>1.5</td>\n",
       "      <td>27.00</td>\n",
       "      <td>41.00</td>\n",
       "      <td>61.00</td>\n",
       "      <td>391.00</td>\n",
       "    </tr>\n",
       "    <tr>\n",
       "      <td>sc</td>\n",
       "      <td>300.0</td>\n",
       "      <td>3.14</td>\n",
       "      <td>6.22</td>\n",
       "      <td>0.4</td>\n",
       "      <td>0.90</td>\n",
       "      <td>1.30</td>\n",
       "      <td>2.80</td>\n",
       "      <td>76.00</td>\n",
       "    </tr>\n",
       "    <tr>\n",
       "      <td>sod</td>\n",
       "      <td>300.0</td>\n",
       "      <td>137.06</td>\n",
       "      <td>10.39</td>\n",
       "      <td>4.5</td>\n",
       "      <td>135.00</td>\n",
       "      <td>138.00</td>\n",
       "      <td>141.00</td>\n",
       "      <td>163.00</td>\n",
       "    </tr>\n",
       "    <tr>\n",
       "      <td>pot</td>\n",
       "      <td>300.0</td>\n",
       "      <td>4.59</td>\n",
       "      <td>3.25</td>\n",
       "      <td>2.5</td>\n",
       "      <td>3.80</td>\n",
       "      <td>4.30</td>\n",
       "      <td>4.90</td>\n",
       "      <td>47.00</td>\n",
       "    </tr>\n",
       "    <tr>\n",
       "      <td>hemo</td>\n",
       "      <td>300.0</td>\n",
       "      <td>12.63</td>\n",
       "      <td>2.80</td>\n",
       "      <td>4.8</td>\n",
       "      <td>10.50</td>\n",
       "      <td>12.70</td>\n",
       "      <td>15.00</td>\n",
       "      <td>17.80</td>\n",
       "    </tr>\n",
       "    <tr>\n",
       "      <td>pcv</td>\n",
       "      <td>300.0</td>\n",
       "      <td>38.67</td>\n",
       "      <td>8.72</td>\n",
       "      <td>14.0</td>\n",
       "      <td>32.00</td>\n",
       "      <td>40.00</td>\n",
       "      <td>45.00</td>\n",
       "      <td>54.00</td>\n",
       "    </tr>\n",
       "    <tr>\n",
       "      <td>wc</td>\n",
       "      <td>300.0</td>\n",
       "      <td>8475.00</td>\n",
       "      <td>2882.58</td>\n",
       "      <td>2200.0</td>\n",
       "      <td>6575.00</td>\n",
       "      <td>8200.00</td>\n",
       "      <td>9800.00</td>\n",
       "      <td>21600.00</td>\n",
       "    </tr>\n",
       "    <tr>\n",
       "      <td>rc</td>\n",
       "      <td>300.0</td>\n",
       "      <td>4.60</td>\n",
       "      <td>0.98</td>\n",
       "      <td>2.1</td>\n",
       "      <td>3.90</td>\n",
       "      <td>4.65</td>\n",
       "      <td>5.20</td>\n",
       "      <td>8.00</td>\n",
       "    </tr>\n",
       "    <tr>\n",
       "      <td>htn</td>\n",
       "      <td>300.0</td>\n",
       "      <td>0.35</td>\n",
       "      <td>0.48</td>\n",
       "      <td>0.0</td>\n",
       "      <td>0.00</td>\n",
       "      <td>0.00</td>\n",
       "      <td>1.00</td>\n",
       "      <td>1.00</td>\n",
       "    </tr>\n",
       "    <tr>\n",
       "      <td>dm</td>\n",
       "      <td>300.0</td>\n",
       "      <td>0.35</td>\n",
       "      <td>0.48</td>\n",
       "      <td>0.0</td>\n",
       "      <td>0.00</td>\n",
       "      <td>0.00</td>\n",
       "      <td>1.00</td>\n",
       "      <td>1.00</td>\n",
       "    </tr>\n",
       "    <tr>\n",
       "      <td>cad</td>\n",
       "      <td>300.0</td>\n",
       "      <td>0.09</td>\n",
       "      <td>0.29</td>\n",
       "      <td>0.0</td>\n",
       "      <td>0.00</td>\n",
       "      <td>0.00</td>\n",
       "      <td>0.00</td>\n",
       "      <td>1.00</td>\n",
       "    </tr>\n",
       "    <tr>\n",
       "      <td>appet</td>\n",
       "      <td>300.0</td>\n",
       "      <td>0.80</td>\n",
       "      <td>0.40</td>\n",
       "      <td>0.0</td>\n",
       "      <td>1.00</td>\n",
       "      <td>1.00</td>\n",
       "      <td>1.00</td>\n",
       "      <td>1.00</td>\n",
       "    </tr>\n",
       "    <tr>\n",
       "      <td>pe</td>\n",
       "      <td>300.0</td>\n",
       "      <td>0.18</td>\n",
       "      <td>0.38</td>\n",
       "      <td>0.0</td>\n",
       "      <td>0.00</td>\n",
       "      <td>0.00</td>\n",
       "      <td>0.00</td>\n",
       "      <td>1.00</td>\n",
       "    </tr>\n",
       "    <tr>\n",
       "      <td>ane</td>\n",
       "      <td>300.0</td>\n",
       "      <td>0.14</td>\n",
       "      <td>0.34</td>\n",
       "      <td>0.0</td>\n",
       "      <td>0.00</td>\n",
       "      <td>0.00</td>\n",
       "      <td>0.00</td>\n",
       "      <td>1.00</td>\n",
       "    </tr>\n",
       "    <tr>\n",
       "      <td>classification</td>\n",
       "      <td>300.0</td>\n",
       "      <td>0.62</td>\n",
       "      <td>0.49</td>\n",
       "      <td>0.0</td>\n",
       "      <td>0.00</td>\n",
       "      <td>1.00</td>\n",
       "      <td>1.00</td>\n",
       "      <td>1.00</td>\n",
       "    </tr>\n",
       "  </tbody>\n",
       "</table>\n",
       "</div>"
      ],
      "text/plain": [
       "                count     mean      std     min      25%      50%      75%  \\\n",
       "age             300.0    51.74    17.43     4.0    42.00    55.00    65.00   \n",
       "bp              300.0    76.17    13.38    50.0    70.00    80.00    80.00   \n",
       "sg              300.0     1.02     0.01     1.0     1.01     1.02     1.02   \n",
       "al              300.0     0.99     1.33     0.0     0.00     0.00     2.00   \n",
       "su              300.0     0.51     1.16     0.0     0.00     0.00     0.00   \n",
       "rbc             300.0     0.72     0.45     0.0     0.00     1.00     1.00   \n",
       "pc              300.0     0.78     0.42     0.0     1.00     1.00     1.00   \n",
       "pcc             300.0     0.10     0.30     0.0     0.00     0.00     0.00   \n",
       "ba              300.0     0.05     0.22     0.0     0.00     0.00     0.00   \n",
       "bgr             300.0   150.47    80.58    22.0   100.00   122.00   171.00   \n",
       "bu              300.0    55.84    48.63     1.5    27.00    41.00    61.00   \n",
       "sc              300.0     3.14     6.22     0.4     0.90     1.30     2.80   \n",
       "sod             300.0   137.06    10.39     4.5   135.00   138.00   141.00   \n",
       "pot             300.0     4.59     3.25     2.5     3.80     4.30     4.90   \n",
       "hemo            300.0    12.63     2.80     4.8    10.50    12.70    15.00   \n",
       "pcv             300.0    38.67     8.72    14.0    32.00    40.00    45.00   \n",
       "wc              300.0  8475.00  2882.58  2200.0  6575.00  8200.00  9800.00   \n",
       "rc              300.0     4.60     0.98     2.1     3.90     4.65     5.20   \n",
       "htn             300.0     0.35     0.48     0.0     0.00     0.00     1.00   \n",
       "dm              300.0     0.35     0.48     0.0     0.00     0.00     1.00   \n",
       "cad             300.0     0.09     0.29     0.0     0.00     0.00     0.00   \n",
       "appet           300.0     0.80     0.40     0.0     1.00     1.00     1.00   \n",
       "pe              300.0     0.18     0.38     0.0     0.00     0.00     0.00   \n",
       "ane             300.0     0.14     0.34     0.0     0.00     0.00     0.00   \n",
       "classification  300.0     0.62     0.49     0.0     0.00     1.00     1.00   \n",
       "\n",
       "                     max  \n",
       "age                90.00  \n",
       "bp                180.00  \n",
       "sg                  1.02  \n",
       "al                  5.00  \n",
       "su                  5.00  \n",
       "rbc                 1.00  \n",
       "pc                  1.00  \n",
       "pcc                 1.00  \n",
       "ba                  1.00  \n",
       "bgr               490.00  \n",
       "bu                391.00  \n",
       "sc                 76.00  \n",
       "sod               163.00  \n",
       "pot                47.00  \n",
       "hemo               17.80  \n",
       "pcv                54.00  \n",
       "wc              21600.00  \n",
       "rc                  8.00  \n",
       "htn                 1.00  \n",
       "dm                  1.00  \n",
       "cad                 1.00  \n",
       "appet               1.00  \n",
       "pe                  1.00  \n",
       "ane                 1.00  \n",
       "classification      1.00  "
      ]
     },
     "execution_count": 7,
     "metadata": {},
     "output_type": "execute_result"
    }
   ],
   "source": [
    "# Summary tables\n",
    "np.round(labeled.describe(), 2).T"
   ]
  },
  {
   "cell_type": "code",
   "execution_count": 8,
   "metadata": {},
   "outputs": [
    {
     "data": {
      "text/plain": [
       "(10, 0)"
      ]
     },
     "execution_count": 8,
     "metadata": {},
     "output_type": "execute_result"
    },
    {
     "data": {
      "image/png": "[encoded data removed]",
      "text/plain": [
       "<Figure size 864x504 with 2 Axes>"
      ]
     },
     "metadata": {
      "needs_background": "light"
     },
     "output_type": "display_data"
    }
   ],
   "source": [
    "# heatmap of correlations between continuous variables\n",
    "plt.figure(figsize=(12,7))\n",
    "sns.heatmap(labeled[['age','bp','sg','bgr','bu','sc','sod','pot','hemo','pcv','wc','rc']].corr(),annot=True,cmap='viridis')\n",
    "plt.ylim(10, 0)"
   ]
  },
  {
   "cell_type": "markdown",
   "metadata": {},
   "source": [
    "#### (b) Propose a deep learning-based model development plan:\n",
    "I choose the DNN (deep neural network) model:\n",
    "\n",
    "\n",
    "--> Split the Labeled Data into a training portion and a validation portion (train : validation = 8:2)\n",
    "\n",
    "--> Normalize the features to the min max scale for both labeled and unlabeled data\n",
    "\n",
    "-->  check if class 0 and class 1 are imbalenced in the train and validation set\n",
    "\n",
    "-->  Create a list of feature column objects\n",
    "\n",
    "--> Create an object called classifier which is a DNNClassifier, set it to have 2 classes and 6 hidden layers with selected nodes respectively, and other parameters\n",
    "\n",
    "--> Create an input function and put the train set and train classifier to the input function\n",
    "\n",
    "--> Apply my trained model to the features in the Validation set. Compute the confusion matrix, precision, based on the predicted results and labels from the validation set \n",
    "\n",
    "--> Tune the hyperparameters such as nodes in each layers, number of epochs, learning rate to improve the confusion matrix, precision and other accuracy tests. Rerun the model until a relatively accurate predicted result is obtaind."
   ]
  },
  {
   "cell_type": "code",
   "execution_count": 9,
   "metadata": {},
   "outputs": [],
   "source": [
    "# reference: https://www.udemy.com/course/python-for-data-science-and-machine-learning-bootcamp/\n",
    "# split the data into train and validation set\n",
    "from sklearn.model_selection import train_test_split\n",
    "# here the test set is actually validation set, the test_size is actually validation size\n",
    "X_train, X_val, y_train, y_val = train_test_split(labeled.iloc[:,:24], labeled.iloc[:,24], test_size=0.2, random_state=42)"
   ]
  },
  {
   "cell_type": "code",
   "execution_count": 10,
   "metadata": {},
   "outputs": [],
   "source": [
    "# normalize the data\n",
    "from sklearn.preprocessing import MinMaxScaler\n",
    "scaler = MinMaxScaler()\n",
    "X_train = scaler.fit_transform(X_train)\n",
    "X_val = scaler.transform(X_val)\n",
    "unlabeled_ = scaler.transform(unlabeled)"
   ]
  },
  {
   "cell_type": "code",
   "execution_count": 11,
   "metadata": {},
   "outputs": [],
   "source": [
    "X_train = pd.DataFrame(X_train,columns=labeled.columns[:-1], index = y_train.index)\n",
    "X_val = pd.DataFrame(X_val,columns=labeled.columns[:-1], index = y_val.index)\n",
    "unlabeled = pd.DataFrame(unlabeled_,columns=unlabeled.columns)"
   ]
  },
  {
   "cell_type": "code",
   "execution_count": 12,
   "metadata": {},
   "outputs": [
    {
     "data": {
      "text/plain": [
       "1    147\n",
       "0     93\n",
       "Name: classification, dtype: int64"
      ]
     },
     "execution_count": 12,
     "metadata": {},
     "output_type": "execute_result"
    }
   ],
   "source": [
    "# check if the class is imbalanced\n",
    "pd.value_counts(y_train)"
   ]
  },
  {
   "cell_type": "code",
   "execution_count": 13,
   "metadata": {},
   "outputs": [
    {
     "data": {
      "text/plain": [
       "1    38\n",
       "0    22\n",
       "Name: classification, dtype: int64"
      ]
     },
     "execution_count": 13,
     "metadata": {},
     "output_type": "execute_result"
    }
   ],
   "source": [
    "pd.value_counts(y_val)"
   ]
  },
  {
   "cell_type": "code",
   "execution_count": 14,
   "metadata": {},
   "outputs": [],
   "source": [
    "#  Create a list of feature column objects\n",
    "import tensorflow as tf\n",
    "age = tf.feature_column.numeric_column(\"age\")\n",
    "bp = tf.feature_column.numeric_column(\"bp\")\n",
    "sg = tf.feature_column.numeric_column(\"sg\")\n",
    "al = tf.feature_column.numeric_column(\"al\")\n",
    "su = tf.feature_column.numeric_column(\"su\")\n",
    "rbc = tf.feature_column.numeric_column(\"rbc\")\n",
    "pc = tf.feature_column.numeric_column(\"pc\")\n",
    "pcc = tf.feature_column.numeric_column(\"pcc\")\n",
    "ba = tf.feature_column.numeric_column(\"ba\")\n",
    "bgr = tf.feature_column.numeric_column(\"bgr\")\n",
    "bu = tf.feature_column.numeric_column(\"bu\")\n",
    "sc = tf.feature_column.numeric_column(\"sc\")\n",
    "sod = tf.feature_column.numeric_column(\"sod\")\n",
    "pot = tf.feature_column.numeric_column(\"pot\")\n",
    "hemo = tf.feature_column.numeric_column(\"hemo\")\n",
    "pcv = tf.feature_column.numeric_column(\"pcv\")\n",
    "wc = tf.feature_column.numeric_column(\"wc\")\n",
    "rc = tf.feature_column.numeric_column(\"rc\")\n",
    "htn = tf.feature_column.numeric_column(\"htn\")\n",
    "dm = tf.feature_column.numeric_column(\"dm\")\n",
    "cad = tf.feature_column.numeric_column(\"cad\")\n",
    "appet = tf.feature_column.numeric_column(\"appet\")\n",
    "pe = tf.feature_column.numeric_column(\"pe\")\n",
    "ane = tf.feature_column.numeric_column(\"ane\")"
   ]
  },
  {
   "cell_type": "code",
   "execution_count": 15,
   "metadata": {},
   "outputs": [],
   "source": [
    "feat_cols = [age, bp, sg, al, su, rbc, pc, pcc, ba, bgr, bu, sc, sod, pot, hemo, pcv, wc, rc, htn, dm, cad, appet, pe, ane]"
   ]
  },
  {
   "cell_type": "code",
   "execution_count": 268,
   "metadata": {},
   "outputs": [
    {
     "name": "stdout",
     "output_type": "stream",
     "text": [
      "INFO:tensorflow:Using default config.\n",
      "WARNING:tensorflow:Using temporary folder as model directory: /var/folders/0r/h4pb9m7s7qg49_xhxkh7yvbc0000gn/T/tmp12jm8nlx\n",
      "INFO:tensorflow:Using config: {'_model_dir': '/var/folders/0r/h4pb9m7s7qg49_xhxkh7yvbc0000gn/T/tmp12jm8nlx', '_tf_random_seed': None, '_save_summary_steps': 100, '_save_checkpoints_steps': None, '_save_checkpoints_secs': 600, '_session_config': allow_soft_placement: true\n",
      "graph_options {\n",
      "  rewrite_options {\n",
      "    meta_optimizer_iterations: ONE\n",
      "  }\n",
      "}\n",
      ", '_keep_checkpoint_max': 5, '_keep_checkpoint_every_n_hours': 10000, '_log_step_count_steps': 100, '_train_distribute': None, '_device_fn': None, '_protocol': None, '_eval_distribute': None, '_experimental_distribute': None, '_experimental_max_worker_delay_secs': None, '_session_creation_timeout_secs': 7200, '_service': None, '_cluster_spec': ClusterSpec({}), '_task_type': 'worker', '_task_id': 0, '_global_id_in_cluster': 0, '_master': '', '_evaluation_master': '', '_is_chief': True, '_num_ps_replicas': 0, '_num_worker_replicas': 1}\n",
      "INFO:tensorflow:Calling model_fn.\n",
      "WARNING:tensorflow:Layer dnn is casting an input tensor from dtype float64 to the layer's dtype of float32, which is new behavior in TensorFlow 2.  The layer has dtype float32 because it's dtype defaults to floatx.\n",
      "\n",
      "If you intended to run this layer in float32, you can safely ignore this warning. If in doubt, this warning is likely only an issue if you are porting a TensorFlow 1.X model to TensorFlow 2.\n",
      "\n",
      "To change all layers to have dtype float64 by default, call `tf.keras.backend.set_floatx('float64')`. To change just this layer, pass dtype='float64' to the layer constructor. If you are the author of this layer, you can disable autocasting by passing autocast=False to the base Layer constructor.\n",
      "\n",
      "INFO:tensorflow:Done calling model_fn.\n",
      "INFO:tensorflow:Create CheckpointSaverHook.\n",
      "INFO:tensorflow:Graph was finalized.\n",
      "INFO:tensorflow:Running local_init_op.\n",
      "INFO:tensorflow:Done running local_init_op.\n",
      "INFO:tensorflow:Calling checkpoint listeners before saving checkpoint 0...\n",
      "INFO:tensorflow:Saving checkpoints for 0 into /var/folders/0r/h4pb9m7s7qg49_xhxkh7yvbc0000gn/T/tmp12jm8nlx/model.ckpt.\n",
      "INFO:tensorflow:Calling checkpoint listeners after saving checkpoint 0...\n",
      "INFO:tensorflow:loss = 0.67835456, step = 0\n",
      "INFO:tensorflow:global_step/sec: 309.878\n",
      "INFO:tensorflow:loss = 0.6561831, step = 100 (0.327 sec)\n",
      "INFO:tensorflow:global_step/sec: 451.463\n",
      "INFO:tensorflow:loss = 0.6035912, step = 200 (0.218 sec)\n",
      "INFO:tensorflow:Calling checkpoint listeners before saving checkpoint 229...\n",
      "INFO:tensorflow:Saving checkpoints for 229 into /var/folders/0r/h4pb9m7s7qg49_xhxkh7yvbc0000gn/T/tmp12jm8nlx/model.ckpt.\n",
      "INFO:tensorflow:Calling checkpoint listeners after saving checkpoint 229...\n",
      "INFO:tensorflow:Loss for final step: 0.63207227.\n"
     ]
    },
    {
     "data": {
      "text/plain": [
       "<tensorflow_estimator.python.estimator.canned.dnn.DNNClassifierV2 at 0x145bda690>"
      ]
     },
     "execution_count": 268,
     "metadata": {},
     "output_type": "execute_result"
    }
   ],
   "source": [
    "# Create an object called classifier which is a DNNClassifier. \n",
    "# Set it to have 2 classes and 6 hidden layers with selected nodes respectively.\n",
    "# input train set and train classifier to the input function\n",
    "classifier = tf.estimator.DNNClassifier(hidden_units=[15,10,14,10,14,8], n_classes=2,feature_columns=feat_cols)\n",
    "input_func = tf.compat.v1.estimator.inputs.pandas_input_fn(x=X_train,y=y_train,batch_size=21,num_epochs=20, shuffle=True)\n",
    "classifier.train(input_fn=input_func,steps=300)\n",
    "\n",
    "# I recorded the sets of nodes that give a more accurate result compared to the random forest classfier\n",
    "# even I used the same set again and again, the result could vary a lot.\n",
    "# [10,10,15,8,15,5]\n",
    "# [15,10,14,10,15,8] is 89% similar to the random forest\n",
    "# [15,10,14,10,14,8] is 96% similar to the random forest. This is the hidden layer set I used."
   ]
  },
  {
   "cell_type": "markdown",
   "metadata": {},
   "source": [
    "#### (d) Apply your trained model to the Validation set:"
   ]
  },
  {
   "cell_type": "code",
   "execution_count": 269,
   "metadata": {},
   "outputs": [],
   "source": [
    "pred_fn = tf.compat.v1.estimator.inputs.pandas_input_fn(x=X_val,batch_size=len(X_val),shuffle=False)"
   ]
  },
  {
   "cell_type": "code",
   "execution_count": 270,
   "metadata": {},
   "outputs": [
    {
     "name": "stdout",
     "output_type": "stream",
     "text": [
      "INFO:tensorflow:Calling model_fn.\n",
      "WARNING:tensorflow:Layer dnn is casting an input tensor from dtype float64 to the layer's dtype of float32, which is new behavior in TensorFlow 2.  The layer has dtype float32 because it's dtype defaults to floatx.\n",
      "\n",
      "If you intended to run this layer in float32, you can safely ignore this warning. If in doubt, this warning is likely only an issue if you are porting a TensorFlow 1.X model to TensorFlow 2.\n",
      "\n",
      "To change all layers to have dtype float64 by default, call `tf.keras.backend.set_floatx('float64')`. To change just this layer, pass dtype='float64' to the layer constructor. If you are the author of this layer, you can disable autocasting by passing autocast=False to the base Layer constructor.\n",
      "\n",
      "INFO:tensorflow:Done calling model_fn.\n",
      "INFO:tensorflow:Graph was finalized.\n",
      "INFO:tensorflow:Restoring parameters from /var/folders/0r/h4pb9m7s7qg49_xhxkh7yvbc0000gn/T/tmp12jm8nlx/model.ckpt-229\n",
      "INFO:tensorflow:Running local_init_op.\n",
      "INFO:tensorflow:Done running local_init_op.\n"
     ]
    }
   ],
   "source": [
    "note_predictions = list(classifier.predict(input_fn=pred_fn))"
   ]
  },
  {
   "cell_type": "code",
   "execution_count": 271,
   "metadata": {},
   "outputs": [
    {
     "data": {
      "text/plain": [
       "{'logits': array([0.31255314], dtype=float32),\n",
       " 'logistic': array([0.57750833], dtype=float32),\n",
       " 'probabilities': array([0.42249167, 0.57750833], dtype=float32),\n",
       " 'class_ids': array([1]),\n",
       " 'classes': array([b'1'], dtype=object),\n",
       " 'all_class_ids': array([0, 1], dtype=int32),\n",
       " 'all_classes': array([b'0', b'1'], dtype=object)}"
      ]
     },
     "execution_count": 271,
     "metadata": {},
     "output_type": "execute_result"
    }
   ],
   "source": [
    "note_predictions[0]"
   ]
  },
  {
   "cell_type": "code",
   "execution_count": 272,
   "metadata": {},
   "outputs": [],
   "source": [
    "final_preds  = []\n",
    "for pred in note_predictions:\n",
    "    final_preds.append(pred['class_ids'][0])"
   ]
  },
  {
   "cell_type": "code",
   "execution_count": 273,
   "metadata": {},
   "outputs": [
    {
     "name": "stdout",
     "output_type": "stream",
     "text": [
      "Confusion Matrix: \n",
      "                 Class 0 Predicted  Class 1 Predicted\n",
      "Class 0 Actual                 21                  1\n",
      "Class 1 Actual                  1                 37\n",
      "Rest of the info: \n",
      "               precision    recall  f1-score   support\n",
      "\n",
      "     Class 0       0.95      0.95      0.95        22\n",
      "     Class 1       0.97      0.97      0.97        38\n",
      "\n",
      "    accuracy                           0.97        60\n",
      "   macro avg       0.96      0.96      0.96        60\n",
      "weighted avg       0.97      0.97      0.97        60\n",
      "\n"
     ]
    }
   ],
   "source": [
    "# Confusion Matrix, precision, recall, accuracy, and F1 score\n",
    "from sklearn.metrics import classification_report,confusion_matrix\n",
    "# we treat tp as class 0 measured & predicted, and tn as class 1 measured & predicted.\n",
    "cm = confusion_matrix(y_val,final_preds, labels=[0, 1])\n",
    "cm = pd.DataFrame(cm, index=['Class 0 Actual', 'Class 1 Actual'], columns = ['Class 0 Predicted', 'Class 1 Predicted'])\n",
    "print('Confusion Matrix: \\n', cm)\n",
    "\n",
    "\n",
    "target_names = ['Class 0', 'Class 1']\n",
    "print('Rest of the info: \\n', classification_report(y_val,final_preds,target_names=target_names))"
   ]
  },
  {
   "cell_type": "code",
   "execution_count": 274,
   "metadata": {},
   "outputs": [
    {
     "name": "stdout",
     "output_type": "stream",
     "text": [
      "Accuracy: 0.966667\n",
      "Precision: 0.973684\n",
      "Recall: 0.973684\n",
      "F1 score: 0.973684\n"
     ]
    }
   ],
   "source": [
    "# or we could find accuracy, precision, recall, and F1 score by following code:\n",
    "\n",
    "from sklearn.metrics import accuracy_score\n",
    "from sklearn.metrics import precision_score\n",
    "from sklearn.metrics import recall_score\n",
    "from sklearn.metrics import f1_score\n",
    "from sklearn.metrics import cohen_kappa_score\n",
    "from sklearn.metrics import roc_auc_score\n",
    "\n",
    "# accuracy: (tp + tn) / (p + n)\n",
    "accuracy = accuracy_score(y_val,final_preds)\n",
    "print('Accuracy: %f' % accuracy)\n",
    "# precision tp / (tp + fp)\n",
    "precision = precision_score(y_val,final_preds)\n",
    "print('Precision: %f' % precision)\n",
    "# recall: tp / (tp + fn)\n",
    "recall = recall_score(y_val,final_preds)\n",
    "print('Recall: %f' % recall)\n",
    "# f1: 2 tp / (2 tp + fp + fn)\n",
    "f1 = f1_score(y_val,final_preds)\n",
    "print('F1 score: %f' % f1)"
   ]
  },
  {
   "cell_type": "markdown",
   "metadata": {},
   "source": [
    "Apply your trained model to the 100-row Unlabeled Data:"
   ]
  },
  {
   "cell_type": "code",
   "execution_count": 281,
   "metadata": {},
   "outputs": [
    {
     "name": "stdout",
     "output_type": "stream",
     "text": [
      "INFO:tensorflow:Calling model_fn.\n",
      "WARNING:tensorflow:Layer dnn is casting an input tensor from dtype float64 to the layer's dtype of float32, which is new behavior in TensorFlow 2.  The layer has dtype float32 because it's dtype defaults to floatx.\n",
      "\n",
      "If you intended to run this layer in float32, you can safely ignore this warning. If in doubt, this warning is likely only an issue if you are porting a TensorFlow 1.X model to TensorFlow 2.\n",
      "\n",
      "To change all layers to have dtype float64 by default, call `tf.keras.backend.set_floatx('float64')`. To change just this layer, pass dtype='float64' to the layer constructor. If you are the author of this layer, you can disable autocasting by passing autocast=False to the base Layer constructor.\n",
      "\n",
      "INFO:tensorflow:Done calling model_fn.\n",
      "INFO:tensorflow:Graph was finalized.\n",
      "INFO:tensorflow:Restoring parameters from /var/folders/0r/h4pb9m7s7qg49_xhxkh7yvbc0000gn/T/tmp12jm8nlx/model.ckpt-229\n",
      "INFO:tensorflow:Running local_init_op.\n",
      "INFO:tensorflow:Done running local_init_op.\n"
     ]
    },
    {
     "data": {
      "text/html": [
       "<div>\n",
       "<style scoped>\n",
       "    .dataframe tbody tr th:only-of-type {\n",
       "        vertical-align: middle;\n",
       "    }\n",
       "\n",
       "    .dataframe tbody tr th {\n",
       "        vertical-align: top;\n",
       "    }\n",
       "\n",
       "    .dataframe thead th {\n",
       "        text-align: right;\n",
       "    }\n",
       "</style>\n",
       "<table border=\"1\" class=\"dataframe\">\n",
       "  <thead>\n",
       "    <tr style=\"text-align: right;\">\n",
       "      <th></th>\n",
       "      <th>classification</th>\n",
       "    </tr>\n",
       "  </thead>\n",
       "  <tbody>\n",
       "    <tr>\n",
       "      <td>0</td>\n",
       "      <td>0</td>\n",
       "    </tr>\n",
       "    <tr>\n",
       "      <td>1</td>\n",
       "      <td>1</td>\n",
       "    </tr>\n",
       "    <tr>\n",
       "      <td>2</td>\n",
       "      <td>0</td>\n",
       "    </tr>\n",
       "    <tr>\n",
       "      <td>3</td>\n",
       "      <td>1</td>\n",
       "    </tr>\n",
       "    <tr>\n",
       "      <td>4</td>\n",
       "      <td>0</td>\n",
       "    </tr>\n",
       "    <tr>\n",
       "      <td>...</td>\n",
       "      <td>...</td>\n",
       "    </tr>\n",
       "    <tr>\n",
       "      <td>95</td>\n",
       "      <td>0</td>\n",
       "    </tr>\n",
       "    <tr>\n",
       "      <td>96</td>\n",
       "      <td>1</td>\n",
       "    </tr>\n",
       "    <tr>\n",
       "      <td>97</td>\n",
       "      <td>1</td>\n",
       "    </tr>\n",
       "    <tr>\n",
       "      <td>98</td>\n",
       "      <td>1</td>\n",
       "    </tr>\n",
       "    <tr>\n",
       "      <td>99</td>\n",
       "      <td>0</td>\n",
       "    </tr>\n",
       "  </tbody>\n",
       "</table>\n",
       "<p>100 rows × 1 columns</p>\n",
       "</div>"
      ],
      "text/plain": [
       "    classification\n",
       "0                0\n",
       "1                1\n",
       "2                0\n",
       "3                1\n",
       "4                0\n",
       "..             ...\n",
       "95               0\n",
       "96               1\n",
       "97               1\n",
       "98               1\n",
       "99               0\n",
       "\n",
       "[100 rows x 1 columns]"
      ]
     },
     "execution_count": 281,
     "metadata": {},
     "output_type": "execute_result"
    }
   ],
   "source": [
    "pred_fn = tf.compat.v1.estimator.inputs.pandas_input_fn(x=unlabeled,batch_size=len(unlabeled),shuffle=False)\n",
    "note_predictions = list(classifier.predict(input_fn=pred_fn))\n",
    "\n",
    "y_pred  = []\n",
    "for pred in note_predictions:\n",
    "    y_pred.append(pred['class_ids'][0])\n",
    "\n",
    "y_pred = pd.DataFrame(y_pred, columns = ['classification'])\n",
    "y_pred"
   ]
  },
  {
   "cell_type": "code",
   "execution_count": 282,
   "metadata": {},
   "outputs": [],
   "source": [
    "y_pred.to_csv('f0040sj_dnn_prediction.csv', index=False)"
   ]
  },
  {
   "cell_type": "markdown",
   "metadata": {},
   "source": [
    "For some extra exercise, I tried random forest classifier and found out the predicted result is more accurate and stable (in terms of result not changing every run)."
   ]
  },
  {
   "cell_type": "code",
   "execution_count": 283,
   "metadata": {},
   "outputs": [
    {
     "name": "stdout",
     "output_type": "stream",
     "text": [
      "[[22  0]\n",
      " [ 0 38]]\n"
     ]
    }
   ],
   "source": [
    "from sklearn.ensemble import RandomForestClassifier\n",
    "rfc = RandomForestClassifier(n_estimators=100)\n",
    "rfc.fit(X_train,y_train)\n",
    "rfc_preds = rfc.predict(X_val)\n",
    "print(confusion_matrix(y_val,rfc_preds))"
   ]
  },
  {
   "cell_type": "code",
   "execution_count": 284,
   "metadata": {},
   "outputs": [
    {
     "data": {
      "text/html": [
       "<div>\n",
       "<style scoped>\n",
       "    .dataframe tbody tr th:only-of-type {\n",
       "        vertical-align: middle;\n",
       "    }\n",
       "\n",
       "    .dataframe tbody tr th {\n",
       "        vertical-align: top;\n",
       "    }\n",
       "\n",
       "    .dataframe thead th {\n",
       "        text-align: right;\n",
       "    }\n",
       "</style>\n",
       "<table border=\"1\" class=\"dataframe\">\n",
       "  <thead>\n",
       "    <tr style=\"text-align: right;\">\n",
       "      <th></th>\n",
       "      <th>classification</th>\n",
       "      <th>y_pred1</th>\n",
       "    </tr>\n",
       "  </thead>\n",
       "  <tbody>\n",
       "    <tr>\n",
       "      <td>0</td>\n",
       "      <td>0</td>\n",
       "      <td>0</td>\n",
       "    </tr>\n",
       "    <tr>\n",
       "      <td>1</td>\n",
       "      <td>1</td>\n",
       "      <td>1</td>\n",
       "    </tr>\n",
       "    <tr>\n",
       "      <td>2</td>\n",
       "      <td>0</td>\n",
       "      <td>0</td>\n",
       "    </tr>\n",
       "    <tr>\n",
       "      <td>3</td>\n",
       "      <td>1</td>\n",
       "      <td>1</td>\n",
       "    </tr>\n",
       "    <tr>\n",
       "      <td>4</td>\n",
       "      <td>0</td>\n",
       "      <td>0</td>\n",
       "    </tr>\n",
       "    <tr>\n",
       "      <td>...</td>\n",
       "      <td>...</td>\n",
       "      <td>...</td>\n",
       "    </tr>\n",
       "    <tr>\n",
       "      <td>95</td>\n",
       "      <td>0</td>\n",
       "      <td>0</td>\n",
       "    </tr>\n",
       "    <tr>\n",
       "      <td>96</td>\n",
       "      <td>1</td>\n",
       "      <td>1</td>\n",
       "    </tr>\n",
       "    <tr>\n",
       "      <td>97</td>\n",
       "      <td>1</td>\n",
       "      <td>1</td>\n",
       "    </tr>\n",
       "    <tr>\n",
       "      <td>98</td>\n",
       "      <td>1</td>\n",
       "      <td>1</td>\n",
       "    </tr>\n",
       "    <tr>\n",
       "      <td>99</td>\n",
       "      <td>0</td>\n",
       "      <td>0</td>\n",
       "    </tr>\n",
       "  </tbody>\n",
       "</table>\n",
       "<p>100 rows × 2 columns</p>\n",
       "</div>"
      ],
      "text/plain": [
       "    classification  y_pred1\n",
       "0                0        0\n",
       "1                1        1\n",
       "2                0        0\n",
       "3                1        1\n",
       "4                0        0\n",
       "..             ...      ...\n",
       "95               0        0\n",
       "96               1        1\n",
       "97               1        1\n",
       "98               1        1\n",
       "99               0        0\n",
       "\n",
       "[100 rows x 2 columns]"
      ]
     },
     "execution_count": 284,
     "metadata": {},
     "output_type": "execute_result"
    }
   ],
   "source": [
    "y_pred1 = rfc.predict(unlabeled)\n",
    "y_pred['y_pred1'] = y_pred1\n",
    " # compare the predicted result from DNN and random forest\n",
    "y_pred\n"
   ]
  },
  {
   "cell_type": "code",
   "execution_count": 285,
   "metadata": {},
   "outputs": [],
   "source": [
    "#y_pred.to_csv('mytest.csv', index=False)"
   ]
  },
  {
   "cell_type": "code",
   "execution_count": 286,
   "metadata": {},
   "outputs": [
    {
     "data": {
      "text/plain": [
       "0.96"
      ]
     },
     "execution_count": 286,
     "metadata": {},
     "output_type": "execute_result"
    }
   ],
   "source": [
    "cnt = 0\n",
    "for i in range(100):\n",
    "    if (y_pred.iloc[i,0] == y_pred.iloc[i,1]):\n",
    "        cnt = cnt + 1\n",
    "\n",
    "result = cnt/100\n",
    "result"
   ]
  }
 ],
 "metadata": {
  "kernelspec": {
   "display_name": "Python 3",
   "language": "python",
   "name": "python3"
  },
  "language_info": {
   "codemirror_mode": {
    "name": "ipython",
    "version": 3
   },
   "file_extension": ".py",
   "mimetype": "text/x-python",
   "name": "python",
   "nbconvert_exporter": "python",
   "pygments_lexer": "ipython3",
   "version": "3.7.4"
  }
 },
 "nbformat": 4,
 "nbformat_minor": 2
}
