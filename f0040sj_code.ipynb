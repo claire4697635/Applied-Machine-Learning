{
 "cells": [
  {
   "cell_type": "markdown",
   "metadata": {},
   "source": [
    "# QBS 108 Assignment 2"
   ]
  },
  {
   "cell_type": "markdown",
   "metadata": {},
   "source": [
    "### 1. K-Means Clustering:"
   ]
  },
  {
   "cell_type": "code",
   "execution_count": 1,
   "metadata": {},
   "outputs": [
    {
     "data": {
      "text/html": [
       "<div>\n",
       "<style scoped>\n",
       "    .dataframe tbody tr th:only-of-type {\n",
       "        vertical-align: middle;\n",
       "    }\n",
       "\n",
       "    .dataframe tbody tr th {\n",
       "        vertical-align: top;\n",
       "    }\n",
       "\n",
       "    .dataframe thead th {\n",
       "        text-align: right;\n",
       "    }\n",
       "</style>\n",
       "<table border=\"1\" class=\"dataframe\">\n",
       "  <thead>\n",
       "    <tr style=\"text-align: right;\">\n",
       "      <th></th>\n",
       "      <th>1</th>\n",
       "      <th>2</th>\n",
       "      <th>3</th>\n",
       "      <th>4</th>\n",
       "      <th>5</th>\n",
       "      <th>6</th>\n",
       "      <th>7</th>\n",
       "      <th>8</th>\n",
       "      <th>9</th>\n",
       "    </tr>\n",
       "    <tr>\n",
       "      <th>0</th>\n",
       "      <th></th>\n",
       "      <th></th>\n",
       "      <th></th>\n",
       "      <th></th>\n",
       "      <th></th>\n",
       "      <th></th>\n",
       "      <th></th>\n",
       "      <th></th>\n",
       "      <th></th>\n",
       "    </tr>\n",
       "  </thead>\n",
       "  <tbody>\n",
       "    <tr>\n",
       "      <td>-62.755415</td>\n",
       "      <td>-94.071973</td>\n",
       "      <td>89.519831</td>\n",
       "      <td>-15.942567</td>\n",
       "      <td>81.423539</td>\n",
       "      <td>-13.998292</td>\n",
       "      <td>7.716073</td>\n",
       "      <td>-22.936551</td>\n",
       "      <td>-32.837892</td>\n",
       "      <td>-2.202680</td>\n",
       "    </tr>\n",
       "    <tr>\n",
       "      <td>-2.432896</td>\n",
       "      <td>90.585842</td>\n",
       "      <td>-1.067308</td>\n",
       "      <td>-53.083120</td>\n",
       "      <td>-15.676684</td>\n",
       "      <td>60.842472</td>\n",
       "      <td>10.257369</td>\n",
       "      <td>-48.822959</td>\n",
       "      <td>14.257400</td>\n",
       "      <td>-12.214352</td>\n",
       "    </tr>\n",
       "    <tr>\n",
       "      <td>-71.266853</td>\n",
       "      <td>-8.064608</td>\n",
       "      <td>66.112455</td>\n",
       "      <td>81.381475</td>\n",
       "      <td>-7.525685</td>\n",
       "      <td>109.824273</td>\n",
       "      <td>5.519407</td>\n",
       "      <td>-13.364480</td>\n",
       "      <td>38.415728</td>\n",
       "      <td>-5.124731</td>\n",
       "    </tr>\n",
       "    <tr>\n",
       "      <td>-84.770785</td>\n",
       "      <td>-73.244566</td>\n",
       "      <td>74.181000</td>\n",
       "      <td>27.022697</td>\n",
       "      <td>-18.044895</td>\n",
       "      <td>50.116433</td>\n",
       "      <td>-3.495197</td>\n",
       "      <td>-11.318520</td>\n",
       "      <td>8.319656</td>\n",
       "      <td>-3.149509</td>\n",
       "    </tr>\n",
       "    <tr>\n",
       "      <td>-69.560171</td>\n",
       "      <td>-9.612940</td>\n",
       "      <td>-67.497549</td>\n",
       "      <td>34.868543</td>\n",
       "      <td>-1.795849</td>\n",
       "      <td>-6.676780</td>\n",
       "      <td>-2.840781</td>\n",
       "      <td>16.780157</td>\n",
       "      <td>-49.319753</td>\n",
       "      <td>10.508631</td>\n",
       "    </tr>\n",
       "  </tbody>\n",
       "</table>\n",
       "</div>"
      ],
      "text/plain": [
       "                    1          2          3          4           5          6  \\\n",
       "0                                                                               \n",
       "-62.755415 -94.071973  89.519831 -15.942567  81.423539  -13.998292   7.716073   \n",
       "-2.432896   90.585842  -1.067308 -53.083120 -15.676684   60.842472  10.257369   \n",
       "-71.266853  -8.064608  66.112455  81.381475  -7.525685  109.824273   5.519407   \n",
       "-84.770785 -73.244566  74.181000  27.022697 -18.044895   50.116433  -3.495197   \n",
       "-69.560171  -9.612940 -67.497549  34.868543  -1.795849   -6.676780  -2.840781   \n",
       "\n",
       "                    7          8          9  \n",
       "0                                            \n",
       "-62.755415 -22.936551 -32.837892  -2.202680  \n",
       "-2.432896  -48.822959  14.257400 -12.214352  \n",
       "-71.266853 -13.364480  38.415728  -5.124731  \n",
       "-84.770785 -11.318520   8.319656  -3.149509  \n",
       "-69.560171  16.780157 -49.319753  10.508631  "
      ]
     },
     "execution_count": 1,
     "metadata": {},
     "output_type": "execute_result"
    }
   ],
   "source": [
    "import numpy as np\n",
    "import pandas as pd\n",
    "pancancer = pd.read_csv('pancancer.csv', header=None, index_col=0)\n",
    "pancancer.head()\n",
    "# TCGA pan-cancer gene expression dataset. Rows are entries, columns are features"
   ]
  },
  {
   "cell_type": "markdown",
   "metadata": {},
   "source": [
    "#### 1. To understand the dataset:"
   ]
  },
  {
   "cell_type": "code",
   "execution_count": 2,
   "metadata": {},
   "outputs": [
    {
     "data": {
      "text/plain": [
       "Text(0.5, 1.0, 'Visualize the first 2 features')"
      ]
     },
     "execution_count": 2,
     "metadata": {},
     "output_type": "execute_result"
    }
   ],
   "source": [
    "# Visualize the first 2 features of data\n",
    "from matplotlib import pyplot as plt\n",
    "plt.plot(pancancer.iloc[:,0], '.', label='feature1')\n",
    "plt.plot(pancancer.iloc[:,1], '.', label='feature2')\n",
    "plt.legend()\n",
    "plt.title('Visualize the first 2 features')"
   ]
  },
  {
   "cell_type": "markdown",
   "metadata": {},
   "source": [
    "Looks like there might be 4 clusters for feature 1, and 5 clusters for feature 2. With the combination of feature 1 and 2, there might be approximately 3 clusters."
   ]
  },
  {
   "cell_type": "code",
   "execution_count": 3,
   "metadata": {},
   "outputs": [
    {
     "data": {
      "image/png": "[encoded data removed]",
      "text/plain": [
       "<Figure size 432x288 with 1 Axes>"
      ]
     },
     "metadata": {
      "needs_background": "light"
     },
     "output_type": "display_data"
    }
   ],
   "source": [
    "# use Elbow method to select cluster, k. Assume k is in the range of 1 to 10.\n",
    "# reference: reference: https://medium.com/analytics-vidhya/how-to-determine-the-optimal-k-for-k-means-708505d204eb\n",
    "from sklearn.cluster import KMeans\n",
    "\n",
    "wcss = []\n",
    "for i in range(1, 11):\n",
    "    kmeans = KMeans(n_clusters=i, init='k-means++', max_iter=300, n_init=10, random_state=0)\n",
    "    kmeans.fit(pancancer.iloc[:,:1])\n",
    "    wcss.append(kmeans.inertia_)\n",
    "plt.plot(range(1, 11), wcss)\n",
    "plt.title('Elbow Method for optimal clusters')\n",
    "plt.xlabel('Number of clusters')\n",
    "plt.ylabel('WCSS')\n",
    "plt.show()\n"
   ]
  },
  {
   "cell_type": "raw",
   "metadata": {},
   "source": [
    "We can choose either k=3 or 4 from the above plot by Elbow method. Use the Silhouette Method for further decision:"
   ]
  },
  {
   "cell_type": "code",
   "execution_count": 4,
   "metadata": {},
   "outputs": [
    {
     "data": {
      "image/png": "[encoded data removed]",
      "text/plain": [
       "<Figure size 432x288 with 1 Axes>"
      ]
     },
     "metadata": {
      "needs_background": "light"
     },
     "output_type": "display_data"
    }
   ],
   "source": [
    "# Silhouette Method\n",
    "from sklearn.metrics import silhouette_score\n",
    "sil = []\n",
    "kmax = 10\n",
    "\n",
    "# dissimilarity would not be defined for a single cluster, thus, minimum number of clusters should be 2\n",
    "for k in range(2, kmax+1):\n",
    "  kmeans = KMeans(n_clusters = k).fit(pancancer.iloc[:,:1])\n",
    "  labels = kmeans.labels_\n",
    "  sil.append(silhouette_score(pancancer.iloc[:,:1], labels, metric = 'euclidean'))\n",
    "\n",
    "plt.plot(range(2, 11), sil)\n",
    "plt.title('Silhouette Method for optimal clusters')\n",
    "plt.xlabel('Number of clusters')\n",
    "plt.ylabel('Silhouette score')\n",
    "plt.show()"
   ]
  },
  {
   "cell_type": "raw",
   "metadata": {},
   "source": [
    "From the above plot, we can see that the Silhouette Score reaches its global maximum at the optimal k=4. So we finally decide to choose k=4.\n"
   ]
  },
  {
   "cell_type": "markdown",
   "metadata": {},
   "source": [
    "#### 2.  K-mean algorithms\n",
    "\n",
    "\n",
    "(a): Using the k-Means algorithm, implement a clustering model. You can use Python (Scikit-learn)"
   ]
  },
  {
   "cell_type": "code",
   "execution_count": 5,
   "metadata": {},
   "outputs": [
    {
     "name": "stdout",
     "output_type": "stream",
     "text": [
      "[2 0 2 2 1 2 1 2 1 2 1 1 2 1 1 1 0 1 1 2 1 1 0 1 1 0 3 1 1 1 1 1 1 1 2 1 1\n",
      " 0 1 1 1 2 2 1 1 1 2 3 1 0 1 0 1 2 3 1 1 3 1 1 0 1 1 0 2 3 1 2 1 1 1 1 1 0\n",
      " 1 0 1 1 2 3 1 2 1 1 2 2 1 1 1 1 2 2 1 1 1 2 3 1 2 1 1 1 1 1 0 1 0 3 0 0 2\n",
      " 1 0 2 1 1 1 1 1 1 0 1 0 1 2 2 2 1 1 1 3 1 3 1 1 1 0 1 1 3 1 2 1 1 0 3 2 1\n",
      " 0 0 0 0 1 1 0 1 1 2 2 0 2 0 1 1 2 0 3 1 0 1 1 0 1 0 1 1 1 2 1 1 3 1 1 2 2\n",
      " 2 0 0 1 0 0 1 0 2 0 1 1 1 0 0 1 1 1 1 1 2 1 2 1 0 0 1 2 1 2 1 1 1 0 1 1 0\n",
      " 1 1 0 1 1 2 1 0 0 2 3 1 1 2 1 3 1 1 1 0 2 2 0 0 1 1 1 3 1 2 3 1 2 1 2 2 2\n",
      " 1 3 3 0 3 3 2 0 1 1 1 1 1 3 2 1 2 1 1 1 1 1 1 1 0 0 1 1 1 1 1 1 1 1 1 1 1\n",
      " 1 1 0 2 1 1 3 0 2 1 1 1 3 1 2 1 3 0 0 2 1 1 1 1 0 3 1 1 1 1 1 1 1 1 2 1 1\n",
      " 1 0 2 1 1 2 3 1 1 1 0 0 0 1 1 2 0 1 1 1 3 3 0 1 1 1 1 1 3 0 3 1 2 1 1 1 1\n",
      " 1 3 2 0 2 1 1 2 1 3 1 1 3 3 2 1 1 3 1 1 2 1 1 1 0 0 1 0 1 1 3 2 1 0 2 1 1\n",
      " 1 0 1 1 2 1 2 3 1 0 1 1 0 1 1 1 1 0 2 1 2 1 1 1 3 1 2 0 1 1 1 1 1 0 1 1 2\n",
      " 3 1 1 0 2 1 2 1 1 1 1 1 0 1 1 1 1 0 0 1 3 2 3 1 1 1 1 2 1 3 0 0 1 2 2 1 2\n",
      " 0 1 2 1 0 2 0 1 1 3 0 1 3 0 1 2 1 1 2 1 3 1 3 1 1 1 0 0 0 3 1 0 0 1 1 1 2\n",
      " 0 2 1 1 1 1 1 2 2 0 1 1 3 3 1 1 1 1 1 2 1 3 1 1 3 0 1 1 1 1 2 0 0 1 1 3 1\n",
      " 1 1 2 0 1 1 3 0 0 0 2 0 1 1 1 3 2 1 1 1 1 0 0 1 2 0 0 1 1 2 3 0 2 3 0 3 1\n",
      " 1 1 1 1 1 3 1 1 2 2 1 1 0 1 1 3 1 2 2 1 1 3 1 1 1 1 3 1 2 1 1 1 2 0 1 1 1\n",
      " 1 1 1 1 1 3 0 0 1 1 1 2 1 1 1 0 0 1 1 0 1 3 1 3 1 1 1 2 2 2 0 2 2 3 1 1 3\n",
      " 0 1 1 1 3 1 1 1 2 0 1 1 2 1 2 1 0 1 2 0 2 2 1 1 2 0 3 3 1 1 1 0 1 1 1 1 0\n",
      " 1 2 1 0 2 1 2 1 1 1 3 2 2 1 2 1 1 0 0 1 1 1 1 1 1 1 1 1 2 3 1 1 1 1 1 0 1\n",
      " 1 2 1 2 1 3 1 1 1 0 1 1 2 1 2 3 1 1 1 0 1 0 1 0 1 1 3 3 1 1 1 0 1 0 1 1 0\n",
      " 1 0 0 0 1 1 2 1 1 1 1 2 1 1 1 1 1 2 0 1 0 0 2 2]\n"
     ]
    },
    {
     "data": {
      "text/plain": [
       "array([[ 50.90244086,  12.39849   , -81.64418427,  -3.60637383,\n",
       "         21.61183498, -18.56111874,   2.11141747,  -3.06067454,\n",
       "          4.1209878 ],\n",
       "       [ -5.48399299, -41.93443593,  17.01825524,   4.74626231,\n",
       "         -0.89821561,   4.73112673,   1.29164077,  -0.35167792,\n",
       "         -1.25930495],\n",
       "       [-97.35934163,  73.28172231,  -3.95172251,  -4.87034015,\n",
       "          4.73741599,   5.98310104,  -5.45591957,   3.93768864,\n",
       "          0.34929305],\n",
       "       [111.31633247,  92.0068112 ,  56.4083339 , -12.45541451,\n",
       "        -42.4356478 ,  -4.34662201,  -1.71751235,   0.65611024,\n",
       "         -0.7827731 ]])"
      ]
     },
     "execution_count": 5,
     "metadata": {},
     "output_type": "execute_result"
    }
   ],
   "source": [
    "kmeans = KMeans(n_clusters=4)\n",
    "y_kmeans = kmeans.fit_predict(pancancer)\n",
    "print(y_kmeans)\n",
    "kmeans.cluster_centers_"
   ]
  },
  {
   "cell_type": "code",
   "execution_count": 6,
   "metadata": {},
   "outputs": [
    {
     "data": {
      "text/plain": [
       "<matplotlib.collections.PathCollection at 0x11e9d2290>"
      ]
     },
     "execution_count": 6,
     "metadata": {},
     "output_type": "execute_result"
    },
    {
     "data": {
      "image/png": "[encoded data removed]",
      "text/plain": [
       "<Figure size 432x288 with 1 Axes>"
      ]
     },
     "metadata": {
      "needs_background": "light"
     },
     "output_type": "display_data"
    }
   ],
   "source": [
    "# check out the k-means clustering visualization in terms of feature1 and feature2\n",
    "plt.scatter(pancancer.iloc[:,0],pancancer.iloc[:,1], c=y_kmeans)\n",
    "centers = kmeans.cluster_centers_\n",
    "plt.scatter(centers[:, 0], centers[:, 1], c='red', s=200)"
   ]
  },
  {
   "cell_type": "code",
   "execution_count": 7,
   "metadata": {},
   "outputs": [
    {
     "data": {
      "text/plain": [
       "<matplotlib.collections.PathCollection at 0x11eb71b90>"
      ]
     },
     "execution_count": 7,
     "metadata": {},
     "output_type": "execute_result"
    },
    {
     "data": {
      "image/png": "[encoded data removed]",
      "text/plain": [
       "<Figure size 432x288 with 1 Axes>"
      ]
     },
     "metadata": {
      "needs_background": "light"
     },
     "output_type": "display_data"
    }
   ],
   "source": [
    "# check the k-means clustering visualization in terms of feature3 and feature5\n",
    "plt.scatter(pancancer.iloc[:,2],pancancer.iloc[:,4], c=y_kmeans)\n",
    "centers = kmeans.cluster_centers_\n",
    "plt.scatter(centers[:, 2], centers[:, 4], c='red', s=200)"
   ]
  },
  {
   "cell_type": "markdown",
   "metadata": {},
   "source": [
    "(b): Train the clustering model on several reasonable values of k, taking into account your visual inspection from 1b. Plot the Bayesian information criterion (BIC) and Akaike information criterion (AIC) for each value of k:\n",
    "\n",
    "Note: AIC and BIC are methods for scoring and selecting a model."
   ]
  },
  {
   "cell_type": "code",
   "execution_count": 8,
   "metadata": {},
   "outputs": [],
   "source": [
    "# reference: https://stackoverflow.com/questions/45072812/calculate-akaike-information-criteria-aic-by-hand-in-python\n",
    "from sklearn.mixture import GaussianMixture\n",
    "score_a = []\n",
    "score_b = []\n",
    "np.random.seed(5)\n",
    "\n",
    "for k in range(2,11):\n",
    "    model = GaussianMixture(n_components=k, init_params='kmeans')\n",
    "    model.fit(pancancer)\n",
    "    score_a.append(model.aic(pancancer))\n",
    "    score_b.append(model.bic(pancancer))"
   ]
  },
  {
   "cell_type": "code",
   "execution_count": 9,
   "metadata": {},
   "outputs": [
    {
     "data": {
      "image/png": "[encoded data removed]",
      "text/plain": [
       "<Figure size 432x288 with 1 Axes>"
      ]
     },
     "metadata": {
      "needs_background": "light"
     },
     "output_type": "display_data"
    }
   ],
   "source": [
    "plt.plot(range(2,11),score_a, label='AIC')\n",
    "plt.plot(range(2,11),score_b, label='BIC')\n",
    "plt.xlabel('Number of clusters k')\n",
    "plt.ylabel('Scores')\n",
    "plt.title('Information criterion plots')\n",
    "plt.legend()\n",
    "plt.show()"
   ]
  },
  {
   "cell_type": "markdown",
   "metadata": {},
   "source": [
    "For both AIC and BIC, given a set of candidate models for the data, the preferred model is the one with the minimum AIC(BIC) value. In other words, the higher the number, the better the fit. \n",
    "\n",
    "From BIC curve, the optimal cluster k = 6. From AIC curve, it seems like the higher k the better fit. But the simulated scores vary as the loop rerun, and half of the times k = 4 is the elbow locator with a solid minimum score for both AIC and BIC curve (without setting random seed). So from the above plot we could say that the optimal k = 4, it then matches my visual inspection and results from the Elbow and Silhouette methods. However, from the above plot where optimal k = 6, it is slightly different from the previous result.\n"
   ]
  },
  {
   "cell_type": "markdown",
   "metadata": {},
   "source": [
    "### 2. K-Nearest Neighbor Classification:"
   ]
  },
  {
   "cell_type": "code",
   "execution_count": 10,
   "metadata": {},
   "outputs": [
    {
     "data": {
      "text/html": [
       "<div>\n",
       "<style scoped>\n",
       "    .dataframe tbody tr th:only-of-type {\n",
       "        vertical-align: middle;\n",
       "    }\n",
       "\n",
       "    .dataframe tbody tr th {\n",
       "        vertical-align: top;\n",
       "    }\n",
       "\n",
       "    .dataframe thead th {\n",
       "        text-align: right;\n",
       "    }\n",
       "</style>\n",
       "<table border=\"1\" class=\"dataframe\">\n",
       "  <thead>\n",
       "    <tr style=\"text-align: right;\">\n",
       "      <th></th>\n",
       "      <th>PetalLength</th>\n",
       "      <th>PetalWidth</th>\n",
       "      <th>SepalLength</th>\n",
       "      <th>SepalWidth</th>\n",
       "      <th>Species</th>\n",
       "    </tr>\n",
       "  </thead>\n",
       "  <tbody>\n",
       "    <tr>\n",
       "      <td>0</td>\n",
       "      <td>0.899641</td>\n",
       "      <td>0.329611</td>\n",
       "      <td>-0.314771</td>\n",
       "      <td>0.101123</td>\n",
       "      <td>Iris-versicolor</td>\n",
       "    </tr>\n",
       "    <tr>\n",
       "      <td>1</td>\n",
       "      <td>-2.405514</td>\n",
       "      <td>0.195917</td>\n",
       "      <td>0.270717</td>\n",
       "      <td>0.173785</td>\n",
       "      <td>Iris-setosa</td>\n",
       "    </tr>\n",
       "    <tr>\n",
       "      <td>2</td>\n",
       "      <td>-2.587346</td>\n",
       "      <td>0.520474</td>\n",
       "      <td>0.219572</td>\n",
       "      <td>-0.069082</td>\n",
       "      <td>Iris-setosa</td>\n",
       "    </tr>\n",
       "    <tr>\n",
       "      <td>3</td>\n",
       "      <td>-2.507917</td>\n",
       "      <td>-0.139056</td>\n",
       "      <td>-0.247116</td>\n",
       "      <td>0.035384</td>\n",
       "      <td>Iris-setosa</td>\n",
       "    </tr>\n",
       "    <tr>\n",
       "      <td>4</td>\n",
       "      <td>1.661935</td>\n",
       "      <td>0.242038</td>\n",
       "      <td>0.242815</td>\n",
       "      <td>0.119448</td>\n",
       "      <td>Iris-virginica</td>\n",
       "    </tr>\n",
       "  </tbody>\n",
       "</table>\n",
       "</div>"
      ],
      "text/plain": [
       "   PetalLength  PetalWidth  SepalLength  SepalWidth          Species\n",
       "0     0.899641    0.329611    -0.314771    0.101123  Iris-versicolor\n",
       "1    -2.405514    0.195917     0.270717    0.173785      Iris-setosa\n",
       "2    -2.587346    0.520474     0.219572   -0.069082      Iris-setosa\n",
       "3    -2.507917   -0.139056    -0.247116    0.035384      Iris-setosa\n",
       "4     1.661935    0.242038     0.242815    0.119448   Iris-virginica"
      ]
     },
     "execution_count": 10,
     "metadata": {},
     "output_type": "execute_result"
    }
   ],
   "source": [
    "test_iris = pd.read_csv('test.csv', header=None)\n",
    "test_iris.columns = ['PetalLength', 'PetalWidth', 'SepalLength', 'SepalWidth','Species']\n",
    "\n",
    "train_iris = pd.read_csv('train.csv', header=None)\n",
    "train_iris.columns = ['PetalLength', 'PetalWidth', 'SepalLength', 'SepalWidth','Species']\n",
    "\n",
    "val_iris = pd.read_csv('val.csv', header=None)\n",
    "val_iris.columns = ['PetalLength', 'PetalWidth', 'SepalLength', 'SepalWidth','Species']\n",
    "\n",
    "test_iris.head()"
   ]
  },
  {
   "cell_type": "code",
   "execution_count": 11,
   "metadata": {},
   "outputs": [
    {
     "data": {
      "text/plain": [
       "0         Iris-setosa\n",
       "1         Iris-setosa\n",
       "2     Iris-versicolor\n",
       "3     Iris-versicolor\n",
       "4     Iris-versicolor\n",
       "           ...       \n",
       "85     Iris-virginica\n",
       "86        Iris-setosa\n",
       "87        Iris-setosa\n",
       "88        Iris-setosa\n",
       "89     Iris-virginica\n",
       "Name: Species, Length: 90, dtype: object"
      ]
     },
     "execution_count": 11,
     "metadata": {},
     "output_type": "execute_result"
    }
   ],
   "source": [
    "train_iris.iloc[:,4]"
   ]
  },
  {
   "cell_type": "code",
   "execution_count": 12,
   "metadata": {},
   "outputs": [],
   "source": [
    "from sklearn.neighbors import KNeighborsClassifier\n",
    "\n",
    "accuracy = []\n",
    "for k in range(1,26):\n",
    "    knn = KNeighborsClassifier(n_neighbors=k, metric='euclidean') \n",
    "    knn.fit(train_iris.iloc[:,:4], train_iris.iloc[:,4])\n",
    "    acc = knn.score(val_iris.iloc[:,:4],val_iris.iloc[:,4])\n",
    "    accuracy.append(acc)"
   ]
  },
  {
   "cell_type": "code",
   "execution_count": 13,
   "metadata": {},
   "outputs": [
    {
     "name": "stdout",
     "output_type": "stream",
     "text": [
      "    Accuracy   k\n",
      "0   0.933333   1\n",
      "1   0.900000   2\n",
      "2   0.966667   3\n",
      "3   0.966667   4\n",
      "4   0.966667   5\n",
      "5   0.933333   6\n",
      "6   0.966667   7\n",
      "7   0.966667   8\n",
      "8   0.966667   9\n",
      "9   0.933333  10\n",
      "10  1.000000  11\n",
      "11  0.966667  12\n",
      "12  0.966667  13\n",
      "13  0.966667  14\n",
      "14  1.000000  15\n",
      "15  0.933333  16\n",
      "16  0.933333  17\n",
      "17  0.900000  18\n",
      "18  0.900000  19\n",
      "19  0.900000  20\n",
      "20  0.900000  21\n",
      "21  0.900000  22\n",
      "22  0.900000  23\n",
      "23  0.900000  24\n",
      "24  0.900000  25\n"
     ]
    }
   ],
   "source": [
    "accuracy = pd.DataFrame(accuracy)\n",
    "k = list(range(1,26))\n",
    "accuracy['k']= k\n",
    "accuracy.columns = ['Accuracy', 'k']\n",
    "print(accuracy)"
   ]
  },
  {
   "cell_type": "code",
   "execution_count": 14,
   "metadata": {},
   "outputs": [
    {
     "data": {
      "image/png": "[encoded data removed]",
      "text/plain": [
       "<Figure size 432x288 with 1 Axes>"
      ]
     },
     "metadata": {
      "needs_background": "light"
     },
     "output_type": "display_data"
    }
   ],
   "source": [
    "plt.plot(accuracy['k'],accuracy['Accuracy'])\n",
    "plt.xlabel('k')\n",
    "plt.ylabel('Accuracy')\n",
    "plt.title('Accuracies against k')\n",
    "plt.show()"
   ]
  },
  {
   "cell_type": "code",
   "execution_count": 15,
   "metadata": {},
   "outputs": [
    {
     "data": {
      "text/plain": [
       "10"
      ]
     },
     "execution_count": 15,
     "metadata": {},
     "output_type": "execute_result"
    }
   ],
   "source": [
    "accuracy['Accuracy'].idxmax()"
   ]
  },
  {
   "cell_type": "raw",
   "metadata": {},
   "source": [
    "A small value of k means that noise will have a higher influence on the result and a large value make it computationally expensive. As a result, when k = 11 and 15, the accuracy score is the highest. We will choose k = 11 here to avoid the more expensive computation."
   ]
  },
  {
   "cell_type": "code",
   "execution_count": 16,
   "metadata": {},
   "outputs": [
    {
     "name": "stdout",
     "output_type": "stream",
     "text": [
      "When k=11, the Accuracy of the knn model is:  0.9666666666666667\n"
     ]
    }
   ],
   "source": [
    "knn = KNeighborsClassifier(n_neighbors=11, metric='euclidean') \n",
    "knn.fit(train_iris.iloc[:,:4], train_iris.iloc[:,4])\n",
    "acc = knn.score(test_iris.iloc[:,:4],test_iris.iloc[:,4])\n",
    "print('When k=11, the Accuracy of the knn model is: ', acc)"
   ]
  },
  {
   "cell_type": "markdown",
   "metadata": {},
   "source": [
    "### 3. Decision Trees Classification:\n",
    "\n",
    "#### 1. Data Imputation and reformat:"
   ]
  },
  {
   "cell_type": "code",
   "execution_count": 17,
   "metadata": {},
   "outputs": [
    {
     "data": {
      "text/html": [
       "<div>\n",
       "<style scoped>\n",
       "    .dataframe tbody tr th:only-of-type {\n",
       "        vertical-align: middle;\n",
       "    }\n",
       "\n",
       "    .dataframe tbody tr th {\n",
       "        vertical-align: top;\n",
       "    }\n",
       "\n",
       "    .dataframe thead th {\n",
       "        text-align: right;\n",
       "    }\n",
       "</style>\n",
       "<table border=\"1\" class=\"dataframe\">\n",
       "  <thead>\n",
       "    <tr style=\"text-align: right;\">\n",
       "      <th></th>\n",
       "      <th>Pclass</th>\n",
       "      <th>Sex</th>\n",
       "      <th>Age</th>\n",
       "      <th>SibSp</th>\n",
       "      <th>Parch</th>\n",
       "      <th>Fare</th>\n",
       "      <th>Embarked</th>\n",
       "      <th>Has_Cabin</th>\n",
       "      <th>Title</th>\n",
       "    </tr>\n",
       "  </thead>\n",
       "  <tbody>\n",
       "    <tr>\n",
       "      <td>0</td>\n",
       "      <td>3</td>\n",
       "      <td>male</td>\n",
       "      <td>42</td>\n",
       "      <td>1</td>\n",
       "      <td>1</td>\n",
       "      <td>15.2458</td>\n",
       "      <td>C</td>\n",
       "      <td>0</td>\n",
       "      <td>Master</td>\n",
       "    </tr>\n",
       "    <tr>\n",
       "      <td>1</td>\n",
       "      <td>2</td>\n",
       "      <td>male</td>\n",
       "      <td>31</td>\n",
       "      <td>0</td>\n",
       "      <td>0</td>\n",
       "      <td>10.5000</td>\n",
       "      <td>S</td>\n",
       "      <td>0</td>\n",
       "      <td>Mr</td>\n",
       "    </tr>\n",
       "    <tr>\n",
       "      <td>2</td>\n",
       "      <td>3</td>\n",
       "      <td>male</td>\n",
       "      <td>20</td>\n",
       "      <td>0</td>\n",
       "      <td>0</td>\n",
       "      <td>7.9250</td>\n",
       "      <td>S</td>\n",
       "      <td>0</td>\n",
       "      <td>Mr</td>\n",
       "    </tr>\n",
       "    <tr>\n",
       "      <td>3</td>\n",
       "      <td>2</td>\n",
       "      <td>female</td>\n",
       "      <td>6</td>\n",
       "      <td>0</td>\n",
       "      <td>1</td>\n",
       "      <td>33.0000</td>\n",
       "      <td>S</td>\n",
       "      <td>0</td>\n",
       "      <td>Miss</td>\n",
       "    </tr>\n",
       "    <tr>\n",
       "      <td>4</td>\n",
       "      <td>3</td>\n",
       "      <td>female</td>\n",
       "      <td>14</td>\n",
       "      <td>1</td>\n",
       "      <td>0</td>\n",
       "      <td>11.2417</td>\n",
       "      <td>C</td>\n",
       "      <td>0</td>\n",
       "      <td>Miss</td>\n",
       "    </tr>\n",
       "  </tbody>\n",
       "</table>\n",
       "</div>"
      ],
      "text/plain": [
       "   Pclass     Sex  Age  SibSp  Parch     Fare Embarked  Has_Cabin   Title\n",
       "0       3    male   42      1      1  15.2458        C          0  Master\n",
       "1       2    male   31      0      0  10.5000        S          0      Mr\n",
       "2       3    male   20      0      0   7.9250        S          0      Mr\n",
       "3       2  female    6      0      1  33.0000        S          0    Miss\n",
       "4       3  female   14      1      0  11.2417        C          0    Miss"
      ]
     },
     "execution_count": 17,
     "metadata": {},
     "output_type": "execute_result"
    }
   ],
   "source": [
    "test_titanic = pd.read_csv('titanic_test.csv')\n",
    "train_titanic = pd.read_csv('titanic_train.csv')\n",
    "val_titanic = pd.read_csv('titanic_val.csv')\n",
    "test_titanic.head()"
   ]
  },
  {
   "cell_type": "code",
   "execution_count": 18,
   "metadata": {},
   "outputs": [
    {
     "data": {
      "text/plain": [
       "Pclass         int64\n",
       "Sex           object\n",
       "Age            int64\n",
       "SibSp          int64\n",
       "Parch          int64\n",
       "Fare         float64\n",
       "Embarked      object\n",
       "Has_Cabin      int64\n",
       "Title         object\n",
       "dtype: object"
      ]
     },
     "execution_count": 18,
     "metadata": {},
     "output_type": "execute_result"
    }
   ],
   "source": [
    "test_titanic.dtypes"
   ]
  },
  {
   "cell_type": "markdown",
   "metadata": {},
   "source": [
    "From the above results shown, sex and Embarked need to be converted to int. Title includes multiple information.In details, Master is for male who are under 18, Miss is for unmarried female, Mrs refers to married female, and Rare could be a title for special group of people. So, I may add a column for people who are married or unmarried, over 18, etc or under 18 depending on the gender. But the title would have provided enough information so I'll leave it there, instead of adding new columns based on Title. \n",
    "\n",
    "After the above all, we need to rescale the dataset since they have different scales. Typically, bounding predictor between 0 and 1 can be helpful for getting model estimation algorithms to converge"
   ]
  },
  {
   "cell_type": "code",
   "execution_count": 19,
   "metadata": {},
   "outputs": [
    {
     "data": {
      "text/plain": [
       "count     498\n",
       "unique      5\n",
       "top        Mr\n",
       "freq      295\n",
       "Name: Title, dtype: object"
      ]
     },
     "execution_count": 19,
     "metadata": {},
     "output_type": "execute_result"
    }
   ],
   "source": [
    "train_titanic['Title'].describe() # it has all 5 titles"
   ]
  },
  {
   "cell_type": "code",
   "execution_count": 20,
   "metadata": {},
   "outputs": [
    {
     "data": {
      "text/plain": [
       "count     125\n",
       "unique      4\n",
       "top        Mr\n",
       "freq       73\n",
       "Name: Title, dtype: object"
      ]
     },
     "execution_count": 20,
     "metadata": {},
     "output_type": "execute_result"
    }
   ],
   "source": [
    "val_titanic['Title'].describe() # it has 4 titles without Rare"
   ]
  },
  {
   "cell_type": "code",
   "execution_count": 21,
   "metadata": {},
   "outputs": [
    {
     "data": {
      "text/plain": [
       "count     268\n",
       "unique      5\n",
       "top        Mr\n",
       "freq      149\n",
       "Name: Title, dtype: object"
      ]
     },
     "execution_count": 21,
     "metadata": {},
     "output_type": "execute_result"
    }
   ],
   "source": [
    "test_titanic['Title'].describe() # it has 5 titles\n"
   ]
  },
  {
   "cell_type": "code",
   "execution_count": 22,
   "metadata": {},
   "outputs": [
    {
     "data": {
      "text/html": [
       "<div>\n",
       "<style scoped>\n",
       "    .dataframe tbody tr th:only-of-type {\n",
       "        vertical-align: middle;\n",
       "    }\n",
       "\n",
       "    .dataframe tbody tr th {\n",
       "        vertical-align: top;\n",
       "    }\n",
       "\n",
       "    .dataframe thead th {\n",
       "        text-align: right;\n",
       "    }\n",
       "</style>\n",
       "<table border=\"1\" class=\"dataframe\">\n",
       "  <thead>\n",
       "    <tr style=\"text-align: right;\">\n",
       "      <th></th>\n",
       "      <th>Survived</th>\n",
       "      <th>Pclass</th>\n",
       "      <th>Sex</th>\n",
       "      <th>Age</th>\n",
       "      <th>SibSp</th>\n",
       "      <th>Parch</th>\n",
       "      <th>Fare</th>\n",
       "      <th>Embarked</th>\n",
       "      <th>Has_Cabin</th>\n",
       "      <th>Title</th>\n",
       "      <th>Sex_code</th>\n",
       "      <th>Embarked_code</th>\n",
       "      <th>Title_code</th>\n",
       "    </tr>\n",
       "  </thead>\n",
       "  <tbody>\n",
       "    <tr>\n",
       "      <td>0</td>\n",
       "      <td>1</td>\n",
       "      <td>1</td>\n",
       "      <td>female</td>\n",
       "      <td>24</td>\n",
       "      <td>0</td>\n",
       "      <td>0</td>\n",
       "      <td>69.3000</td>\n",
       "      <td>C</td>\n",
       "      <td>1</td>\n",
       "      <td>Mrs</td>\n",
       "      <td>0</td>\n",
       "      <td>0</td>\n",
       "      <td>3</td>\n",
       "    </tr>\n",
       "    <tr>\n",
       "      <td>1</td>\n",
       "      <td>0</td>\n",
       "      <td>3</td>\n",
       "      <td>female</td>\n",
       "      <td>3</td>\n",
       "      <td>3</td>\n",
       "      <td>1</td>\n",
       "      <td>21.0750</td>\n",
       "      <td>S</td>\n",
       "      <td>0</td>\n",
       "      <td>Miss</td>\n",
       "      <td>0</td>\n",
       "      <td>2</td>\n",
       "      <td>1</td>\n",
       "    </tr>\n",
       "    <tr>\n",
       "      <td>2</td>\n",
       "      <td>1</td>\n",
       "      <td>3</td>\n",
       "      <td>female</td>\n",
       "      <td>16</td>\n",
       "      <td>0</td>\n",
       "      <td>0</td>\n",
       "      <td>7.7333</td>\n",
       "      <td>Q</td>\n",
       "      <td>0</td>\n",
       "      <td>Miss</td>\n",
       "      <td>0</td>\n",
       "      <td>1</td>\n",
       "      <td>1</td>\n",
       "    </tr>\n",
       "    <tr>\n",
       "      <td>3</td>\n",
       "      <td>1</td>\n",
       "      <td>3</td>\n",
       "      <td>male</td>\n",
       "      <td>32</td>\n",
       "      <td>0</td>\n",
       "      <td>0</td>\n",
       "      <td>56.4958</td>\n",
       "      <td>S</td>\n",
       "      <td>0</td>\n",
       "      <td>Mr</td>\n",
       "      <td>1</td>\n",
       "      <td>2</td>\n",
       "      <td>2</td>\n",
       "    </tr>\n",
       "    <tr>\n",
       "      <td>4</td>\n",
       "      <td>0</td>\n",
       "      <td>3</td>\n",
       "      <td>male</td>\n",
       "      <td>22</td>\n",
       "      <td>0</td>\n",
       "      <td>0</td>\n",
       "      <td>7.1250</td>\n",
       "      <td>S</td>\n",
       "      <td>0</td>\n",
       "      <td>Mr</td>\n",
       "      <td>1</td>\n",
       "      <td>2</td>\n",
       "      <td>2</td>\n",
       "    </tr>\n",
       "  </tbody>\n",
       "</table>\n",
       "</div>"
      ],
      "text/plain": [
       "   Survived  Pclass     Sex  Age  SibSp  Parch     Fare Embarked  Has_Cabin  \\\n",
       "0         1       1  female   24      0      0  69.3000        C          1   \n",
       "1         0       3  female    3      3      1  21.0750        S          0   \n",
       "2         1       3  female   16      0      0   7.7333        Q          0   \n",
       "3         1       3    male   32      0      0  56.4958        S          0   \n",
       "4         0       3    male   22      0      0   7.1250        S          0   \n",
       "\n",
       "  Title  Sex_code  Embarked_code  Title_code  \n",
       "0   Mrs         0              0           3  \n",
       "1  Miss         0              2           1  \n",
       "2  Miss         0              1           1  \n",
       "3    Mr         1              2           2  \n",
       "4    Mr         1              2           2  "
      ]
     },
     "execution_count": 22,
     "metadata": {},
     "output_type": "execute_result"
    }
   ],
   "source": [
    "# Import LabelEncoder\n",
    "from sklearn import preprocessing\n",
    "#creating labelEncoder\n",
    "le = preprocessing.LabelEncoder()\n",
    "\n",
    "\n",
    "# for train dataset\n",
    "sex_code=le.fit_transform(train_titanic['Sex'])\n",
    "train_titanic['Sex_code'] = sex_code # female = 0, male = 1\n",
    "\n",
    "embarked_code=le.fit_transform(train_titanic['Embarked'])\n",
    "train_titanic['Embarked_code'] = embarked_code # C = 0, Q = 1, S = 2\n",
    "\n",
    "title_code=le.fit_transform(train_titanic['Title'])\n",
    "train_titanic['Title_code'] = title_code # Master = 0, Miss = 1, Mr = 2, Mrs = 3, Rare=4\n",
    "\n",
    "train_titanic.head()"
   ]
  },
  {
   "cell_type": "code",
   "execution_count": 23,
   "metadata": {},
   "outputs": [
    {
     "data": {
      "text/plain": [
       "Survived           int64\n",
       "Pclass             int64\n",
       "Sex               object\n",
       "Age                int64\n",
       "SibSp              int64\n",
       "Parch              int64\n",
       "Fare             float64\n",
       "Embarked          object\n",
       "Has_Cabin          int64\n",
       "Title             object\n",
       "Sex_code           int64\n",
       "Embarked_code      int64\n",
       "Title_code         int64\n",
       "dtype: object"
      ]
     },
     "execution_count": 23,
     "metadata": {},
     "output_type": "execute_result"
    }
   ],
   "source": [
    "train_titanic.dtypes"
   ]
  },
  {
   "cell_type": "code",
   "execution_count": 24,
   "metadata": {},
   "outputs": [],
   "source": [
    "# for val dataset\n",
    "\n",
    "sex_code=le.fit_transform(val_titanic['Sex'])\n",
    "val_titanic['Sex_code'] = sex_code\n",
    "\n",
    "embarked_code=le.fit_transform(val_titanic['Embarked'])\n",
    "val_titanic['Embarked_code'] = embarked_code\n",
    "\n",
    "title_code=le.fit_transform(val_titanic['Title'])\n",
    "val_titanic['Title_code'] = title_code # Master = 0, Miss = 1, Mr = 2, Mrs = 3\n",
    "\n"
   ]
  },
  {
   "cell_type": "code",
   "execution_count": 25,
   "metadata": {},
   "outputs": [],
   "source": [
    "# for test dataset\n",
    "\n",
    "sex_code=le.fit_transform(test_titanic['Sex'])\n",
    "test_titanic['Sex_code'] = sex_code\n",
    "\n",
    "embarked_code=le.fit_transform(test_titanic['Embarked'])\n",
    "test_titanic['Embarked_code'] = embarked_code\n",
    "\n",
    "title_code=le.fit_transform(test_titanic['Title'])\n",
    "test_titanic['Title_code'] = title_code # Master = 0, Miss = 1, Mr = 2, Mrs = 3, Rare = 4"
   ]
  },
  {
   "cell_type": "markdown",
   "metadata": {},
   "source": [
    "#### 2. Decision Trees Classification：\n",
    " Implement a binary decision tree model:"
   ]
  },
  {
   "cell_type": "code",
   "execution_count": 26,
   "metadata": {},
   "outputs": [],
   "source": [
    "# reference: https://www.datacamp.com/community/tutorials/decision-tree-classification-python\n",
    "# Implement a binary decision tree model for the training data:\n",
    "from sklearn.tree import DecisionTreeClassifier\n",
    "\n",
    "#feature_cols = ['Fare','Has_Cabin','Sex_code','Embarked_code','Title_code']\n",
    "feature_cols = ['Pclass','Age','SibSp','Parch','Fare','Has_Cabin','Sex_code','Embarked_code','Title_code']\n",
    "X_train = train_titanic[feature_cols] # Features\n",
    "y_train = train_titanic.iloc[:,0] # Target label\n",
    "\n",
    "X_val = val_titanic[feature_cols] # Features\n",
    "y_val = val_titanic.iloc[:,0] # Target label\n",
    "\n",
    "X_test = test_titanic[feature_cols] \n",
    "\n",
    "# rescale the data\n",
    "from sklearn.preprocessing import StandardScaler\n",
    "feature_scaler = StandardScaler()\n",
    "\n",
    "X_train = feature_scaler.fit_transform(X_train)\n",
    "X_val = feature_scaler.transform(X_val)\n",
    "X_test = feature_scaler.transform(X_test)\n"
   ]
  },
  {
   "cell_type": "code",
   "execution_count": 27,
   "metadata": {},
   "outputs": [],
   "source": [
    "# Create Decision Tree classifer object\n",
    "clf = DecisionTreeClassifier()\n",
    "\n",
    "# Train Decision Tree Classifer\n",
    "clf = clf.fit(X_train,y_train)\n"
   ]
  },
  {
   "cell_type": "markdown",
   "metadata": {},
   "source": [
    "Tune the maximum depth of the tree:"
   ]
  },
  {
   "cell_type": "code",
   "execution_count": 28,
   "metadata": {},
   "outputs": [
    {
     "name": "stdout",
     "output_type": "stream",
     "text": [
      "   Accuracy  MaximumDepth\n",
      "0     0.808             1\n",
      "1     0.792             2\n",
      "2     0.840             3\n",
      "3     0.856             4\n",
      "4     0.848             5\n",
      "5     0.864             6\n",
      "6     0.816             7\n",
      "7     0.856             8\n",
      "8     0.792             9\n",
      "9     0.808            10\n"
     ]
    },
    {
     "data": {
      "text/plain": [
       "5"
      ]
     },
     "execution_count": 28,
     "metadata": {},
     "output_type": "execute_result"
    }
   ],
   "source": [
    "accuracy = []\n",
    "\n",
    "np.random.seed(4)\n",
    "\n",
    "for i in range(1,11):\n",
    "    # Create Decision Tree classifer object\n",
    "    clf = DecisionTreeClassifier(criterion=\"entropy\", max_depth=i)\n",
    "    # Train Decision Tree Classifer\n",
    "    clf = clf.fit(X_train,y_train)\n",
    "\n",
    "    # Model Accuracy, how often is the classifier correct?\n",
    "    acc = clf.score(X_val, y_val)\n",
    "    accuracy.append(acc)\n",
    "    \n",
    "accuracy = pd.DataFrame(accuracy)\n",
    "m = list(range(1,11))\n",
    "accuracy['MaximumDepth']= m\n",
    "accuracy.columns = ['Accuracy', 'MaximumDepth']\n",
    "print(accuracy)\n",
    "accuracy['Accuracy'].idxmax()\n"
   ]
  },
  {
   "cell_type": "code",
   "execution_count": 29,
   "metadata": {},
   "outputs": [
    {
     "data": {
      "image/png": "[encoded data removed]",
      "text/plain": [
       "<Figure size 432x288 with 1 Axes>"
      ]
     },
     "metadata": {
      "needs_background": "light"
     },
     "output_type": "display_data"
    }
   ],
   "source": [
    "plt.plot(accuracy['MaximumDepth'],accuracy['Accuracy'])\n",
    "plt.xlabel('MaximumDepth')\n",
    "plt.ylabel('Accuracy')\n",
    "plt.title('Accuracies against MaximumDepth')\n",
    "plt.show()"
   ]
  },
  {
   "cell_type": "markdown",
   "metadata": {},
   "source": [
    "From the plot above, we can see that the optimal maximum depth is 6."
   ]
  },
  {
   "cell_type": "code",
   "execution_count": 30,
   "metadata": {},
   "outputs": [],
   "source": [
    "alldata = train_titanic.append(val_titanic)\n",
    "\n",
    "np.random.seed(4)\n",
    "# Create Decision Tree classifer object\n",
    "clf = DecisionTreeClassifier(criterion=\"entropy\", max_depth=6)\n",
    "# Train Decision Tree Classifer\n",
    "clf = clf.fit(alldata[feature_cols],alldata['Survived'])\n",
    "\n",
    "#Predict the response for test dataset\n",
    "y_pred = clf.predict(X_test)"
   ]
  },
  {
   "cell_type": "code",
   "execution_count": 31,
   "metadata": {},
   "outputs": [
    {
     "data": {
      "text/html": [
       "<div>\n",
       "<style scoped>\n",
       "    .dataframe tbody tr th:only-of-type {\n",
       "        vertical-align: middle;\n",
       "    }\n",
       "\n",
       "    .dataframe tbody tr th {\n",
       "        vertical-align: top;\n",
       "    }\n",
       "\n",
       "    .dataframe thead th {\n",
       "        text-align: right;\n",
       "    }\n",
       "</style>\n",
       "<table border=\"1\" class=\"dataframe\">\n",
       "  <thead>\n",
       "    <tr style=\"text-align: right;\">\n",
       "      <th></th>\n",
       "      <th>0</th>\n",
       "    </tr>\n",
       "  </thead>\n",
       "  <tbody>\n",
       "    <tr>\n",
       "      <td>0</td>\n",
       "      <td>1</td>\n",
       "    </tr>\n",
       "    <tr>\n",
       "      <td>1</td>\n",
       "      <td>1</td>\n",
       "    </tr>\n",
       "    <tr>\n",
       "      <td>2</td>\n",
       "      <td>1</td>\n",
       "    </tr>\n",
       "    <tr>\n",
       "      <td>3</td>\n",
       "      <td>0</td>\n",
       "    </tr>\n",
       "    <tr>\n",
       "      <td>4</td>\n",
       "      <td>0</td>\n",
       "    </tr>\n",
       "  </tbody>\n",
       "</table>\n",
       "</div>"
      ],
      "text/plain": [
       "   0\n",
       "0  1\n",
       "1  1\n",
       "2  1\n",
       "3  0\n",
       "4  0"
      ]
     },
     "execution_count": 31,
     "metadata": {},
     "output_type": "execute_result"
    }
   ],
   "source": [
    "y_pred = pd.DataFrame(y_pred)\n",
    "y_pred.head()"
   ]
  },
  {
   "cell_type": "code",
   "execution_count": 42,
   "metadata": {},
   "outputs": [],
   "source": [
    "y_pred.to_csv('f0040sj_dt_prediction.csv',header=None, index=False)"
   ]
  },
  {
   "cell_type": "markdown",
   "metadata": {},
   "source": [
    "### 4. Random Forest Classification:\n",
    "#### Initialize a random forest classifier:"
   ]
  },
  {
   "cell_type": "code",
   "execution_count": 57,
   "metadata": {},
   "outputs": [
    {
     "data": {
      "text/plain": [
       "RandomForestClassifier(bootstrap=True, class_weight=None, criterion='gini',\n",
       "                       max_depth=None, max_features='auto', max_leaf_nodes=None,\n",
       "                       min_impurity_decrease=0.0, min_impurity_split=None,\n",
       "                       min_samples_leaf=1, min_samples_split=2,\n",
       "                       min_weight_fraction_leaf=0.0, n_estimators=100,\n",
       "                       n_jobs=None, oob_score=False, random_state=0, verbose=0,\n",
       "                       warm_start=False)"
      ]
     },
     "execution_count": 57,
     "metadata": {},
     "output_type": "execute_result"
    }
   ],
   "source": [
    "#Import Random Forest Model\n",
    "from sklearn.ensemble import RandomForestClassifier\n",
    "\n",
    "#Create a random forest classifier\n",
    "clf=RandomForestClassifier(n_estimators=100, random_state=0) # n_estomators is the number of trees, max_depth is the maximum depth of the tree\n",
    "\n",
    "#Train the model using the training sets y_pred=clf.predict(X_test)\n",
    "clf.fit(X_train,y_train)"
   ]
  },
  {
   "cell_type": "markdown",
   "metadata": {},
   "source": [
    "#### Tune the maximum depth of the tree:"
   ]
  },
  {
   "cell_type": "code",
   "execution_count": 58,
   "metadata": {},
   "outputs": [],
   "source": [
    "# reference: https://stackabuse.com/cross-validation-and-grid-search-for-model-selection-in-python/\n",
    "\n",
    "#Import Random Forest Model\n",
    "from sklearn.ensemble import RandomForestClassifier\n",
    "\n",
    "#Create a Gaussian Classifier\n",
    "clf=RandomForestClassifier(n_estimators=100, random_state=0, max_depth = 5)\n",
    "\n",
    "from sklearn.model_selection import cross_val_score\n",
    "#accuracies = cross_val_score(estimator=clf, X=alldata[feature_cols],y=alldata['Survived'], cv=10) # cv for the number of folds\n"
   ]
  },
  {
   "cell_type": "code",
   "execution_count": 59,
   "metadata": {},
   "outputs": [
    {
     "name": "stderr",
     "output_type": "stream",
     "text": [
      "/opt/anaconda3/lib/python3.7/site-packages/sklearn/model_selection/_search.py:814: DeprecationWarning: The default of the `iid` parameter will change from True to False in version 0.22 and will be removed in 0.24. This will change numeric results when test-set sizes are unequal.\n",
      "  DeprecationWarning)\n"
     ]
    },
    {
     "name": "stdout",
     "output_type": "stream",
     "text": [
      "{'max_depth': 8, 'n_estimators': 1000}\n"
     ]
    }
   ],
   "source": [
    "# Grid Search. The algorithm will check 100 combinations from n_estimators and max_depth (10 x 10 = 100)\n",
    "from sklearn.model_selection import GridSearchCV \n",
    "\n",
    "grid_param = {\n",
    "    'n_estimators': [100,300,500,700,900, 1000, 1300, 1500],\n",
    "    'max_depth': list(range(1,11))\n",
    "}\n",
    "\n",
    "gd_sr = GridSearchCV(estimator=clf,\n",
    "                     param_grid=grid_param,\n",
    "                     scoring='accuracy',\n",
    "                     cv=10,\n",
    "                     n_jobs=-1)\n",
    "\n",
    "gd_sr.fit(alldata[feature_cols], alldata['Survived'])\n",
    "\n",
    "# print the highest accuracy is achieved\n",
    "best_parameters = gd_sr.best_params_\n",
    "print(best_parameters)"
   ]
  },
  {
   "cell_type": "code",
   "execution_count": 60,
   "metadata": {},
   "outputs": [
    {
     "name": "stdout",
     "output_type": "stream",
     "text": [
      "0.8459069020866774\n"
     ]
    }
   ],
   "source": [
    "# print the accuracy according to the optimal chosen of n_parameters and max_depth\n",
    "best_result = gd_sr.best_score_\n",
    "print(best_result)"
   ]
  },
  {
   "cell_type": "markdown",
   "metadata": {},
   "source": [
    "The above results indicate that the optimal number of trees is 1000, and the optimal maximum depth of the tree is 8. Using the optimal two parameters, the accuracy of the model is 0.8459069020866774. \n",
    "\n",
    "\n",
    "#### Report and interpret the feature importance of each features by your ran- dom forest model:"
   ]
  },
  {
   "cell_type": "markdown",
   "metadata": {},
   "source": [
    "#### Predict the survivals on testing data using the classifier with the opti- mum parameters from 2b:"
   ]
  },
  {
   "cell_type": "code",
   "execution_count": 61,
   "metadata": {},
   "outputs": [
    {
     "data": {
      "text/plain": [
       "array([1, 1, 1, 1, 1, 1, 1, 1, 1, 1, 1, 1, 1, 1, 1, 1, 1, 1, 0, 1, 1, 1,\n",
       "       1, 1, 1, 1, 0, 1, 1, 1, 1, 1, 1, 1, 1, 1, 1, 1, 1, 1, 1, 1, 1, 1,\n",
       "       1, 1, 1, 1, 1, 1, 1, 1, 1, 1, 1, 1, 1, 1, 1, 1, 1, 1, 1, 1, 1, 1,\n",
       "       1, 1, 1, 1, 1, 1, 1, 1, 1, 1, 1, 1, 1, 1, 1, 1, 1, 1, 1, 1, 1, 1,\n",
       "       0, 1, 1, 1, 1, 1, 1, 1, 1, 1, 1, 1, 1, 1, 1, 1, 1, 1, 1, 1, 1, 1,\n",
       "       1, 1, 1, 1, 1, 1, 1, 1, 1, 1, 1, 1, 1, 1, 1, 1, 1, 1, 1, 1, 1, 1,\n",
       "       1, 1, 0, 1, 1, 1, 1, 1, 1, 1, 1, 1, 1, 1, 1, 1, 1, 1, 1, 1, 1, 1,\n",
       "       1, 1, 1, 1, 1, 1, 1, 1, 1, 1, 1, 1, 0, 1, 1, 1, 1, 1, 1, 1, 1, 1,\n",
       "       1, 1, 1, 1, 1, 1, 1, 1, 1, 0, 1, 1, 1, 1, 1, 1, 1, 1, 1, 1, 1, 1,\n",
       "       1, 1, 1, 1, 1, 1, 1, 1, 1, 1, 1, 1, 1, 1, 1, 1, 1, 1, 1, 1, 1, 1,\n",
       "       1, 1, 1, 1, 1, 1, 1, 1, 1, 1, 1, 1, 1, 1, 1, 1, 1, 1, 1, 0, 1, 1,\n",
       "       1, 1, 1, 1, 1, 1, 1, 0, 1, 1, 1, 1, 0, 1, 1, 1, 1, 1, 1, 1, 1, 1,\n",
       "       1, 1, 1, 1])"
      ]
     },
     "execution_count": 61,
     "metadata": {},
     "output_type": "execute_result"
    }
   ],
   "source": [
    "clf=RandomForestClassifier(n_estimators=1000, max_depth = 8)\n",
    "clf.fit(alldata[feature_cols], alldata['Survived'])\n",
    "y_pred1 = clf.predict(X_test)\n",
    "y_pred1"
   ]
  },
  {
   "cell_type": "code",
   "execution_count": 62,
   "metadata": {},
   "outputs": [
    {
     "data": {
      "text/html": [
       "<div>\n",
       "<style scoped>\n",
       "    .dataframe tbody tr th:only-of-type {\n",
       "        vertical-align: middle;\n",
       "    }\n",
       "\n",
       "    .dataframe tbody tr th {\n",
       "        vertical-align: top;\n",
       "    }\n",
       "\n",
       "    .dataframe thead th {\n",
       "        text-align: right;\n",
       "    }\n",
       "</style>\n",
       "<table border=\"1\" class=\"dataframe\">\n",
       "  <thead>\n",
       "    <tr style=\"text-align: right;\">\n",
       "      <th></th>\n",
       "      <th>0</th>\n",
       "    </tr>\n",
       "  </thead>\n",
       "  <tbody>\n",
       "    <tr>\n",
       "      <td>0</td>\n",
       "      <td>1</td>\n",
       "    </tr>\n",
       "    <tr>\n",
       "      <td>1</td>\n",
       "      <td>1</td>\n",
       "    </tr>\n",
       "    <tr>\n",
       "      <td>2</td>\n",
       "      <td>1</td>\n",
       "    </tr>\n",
       "    <tr>\n",
       "      <td>3</td>\n",
       "      <td>1</td>\n",
       "    </tr>\n",
       "    <tr>\n",
       "      <td>4</td>\n",
       "      <td>1</td>\n",
       "    </tr>\n",
       "  </tbody>\n",
       "</table>\n",
       "</div>"
      ],
      "text/plain": [
       "   0\n",
       "0  1\n",
       "1  1\n",
       "2  1\n",
       "3  1\n",
       "4  1"
      ]
     },
     "execution_count": 62,
     "metadata": {},
     "output_type": "execute_result"
    }
   ],
   "source": [
    "y_pred1 = pd.DataFrame(y_pred1)\n",
    "y_pred1.head()"
   ]
  },
  {
   "cell_type": "code",
   "execution_count": 63,
   "metadata": {},
   "outputs": [],
   "source": [
    "y_pred1.to_csv('f0040sj_rf_prediction.csv',header=None, index=False)"
   ]
  },
  {
   "cell_type": "markdown",
   "metadata": {},
   "source": [
    "### 5. SVM classification:\n",
    "\n",
    "#### Build SVM classifiers:"
   ]
  },
  {
   "cell_type": "code",
   "execution_count": 32,
   "metadata": {},
   "outputs": [
    {
     "name": "stdout",
     "output_type": "stream",
     "text": [
      "0.808\n"
     ]
    }
   ],
   "source": [
    "from sklearn import svm\n",
    "\n",
    "# Linear Kernel\n",
    "clf1 = svm.SVC(kernel='linear') \n",
    "\n",
    "#Train the model using the training sets\n",
    "clf1.fit(X_train, y_train)\n",
    "\n",
    "# evaluate the performance:\n",
    "acc1 = clf1.score(X_val, y_val)\n",
    "print(acc1)"
   ]
  },
  {
   "cell_type": "code",
   "execution_count": 33,
   "metadata": {},
   "outputs": [
    {
     "name": "stdout",
     "output_type": "stream",
     "text": [
      "0.824\n"
     ]
    }
   ],
   "source": [
    "#polynomial kernel, with d = 2\n",
    "clf2 = svm.SVC(kernel='poly', degree=2,gamma='auto') \n",
    "\n",
    "#Train the model using the training sets\n",
    "clf2.fit(X_train, y_train)\n",
    "\n",
    "# evaluate the performance:\n",
    "acc2 = clf2.score(X_val, y_val)\n",
    "print(acc2)"
   ]
  },
  {
   "cell_type": "code",
   "execution_count": 34,
   "metadata": {},
   "outputs": [
    {
     "name": "stdout",
     "output_type": "stream",
     "text": [
      "0.848\n"
     ]
    }
   ],
   "source": [
    "# Radial Basis Function Kernel\n",
    "clf3 = svm.SVC(kernel='rbf', random_state=0, gamma=.05, C=1)\n",
    "\n",
    "clf3.fit(X_train, y_train)\n",
    "\n",
    "# evaluate the performance:\n",
    "acc3 = clf3.score(X_val, y_val)\n",
    "print(acc3)"
   ]
  },
  {
   "cell_type": "markdown",
   "metadata": {},
   "source": [
    "From the above results, we can se ethat the radial basis function kernel has the most accurate result, but as the model is more accurate, it could be less generalizable. To avoid overfitting due to the use of training set, we could use cross validation to evaluate them again. "
   ]
  },
  {
   "cell_type": "code",
   "execution_count": 35,
   "metadata": {},
   "outputs": [
    {
     "name": "stdout",
     "output_type": "stream",
     "text": [
      "[0.75396825 0.744      0.80645161 0.82258065 0.7983871 ]\n"
     ]
    }
   ],
   "source": [
    "from sklearn.model_selection import cross_val_score\n",
    "scores1 = cross_val_score(clf1, alldata[feature_cols], alldata['Survived'], cv=5)\n",
    "print(scores1)"
   ]
  },
  {
   "cell_type": "code",
   "execution_count": 36,
   "metadata": {},
   "outputs": [
    {
     "name": "stdout",
     "output_type": "stream",
     "text": [
      "[0.78571429 0.784      0.82258065 0.87903226 0.83064516]\n"
     ]
    }
   ],
   "source": [
    "scores2 = cross_val_score(clf2, alldata[feature_cols], alldata['Survived'], cv=5)\n",
    "print(scores2)"
   ]
  },
  {
   "cell_type": "code",
   "execution_count": 38,
   "metadata": {},
   "outputs": [
    {
     "name": "stdout",
     "output_type": "stream",
     "text": [
      "[0.63492063 0.736      0.67741935 0.72580645 0.69354839]\n"
     ]
    }
   ],
   "source": [
    "scores3 = cross_val_score(clf3, alldata[feature_cols], alldata['Survived'], cv=5)\n",
    "print(scores3)"
   ]
  },
  {
   "cell_type": "markdown",
   "metadata": {},
   "source": [
    "This time, after applying cross validation, we can see that generally radial basis function is the least accurate model, while polynomial is the most accurate model.\n",
    "\n",
    "Note that the linear, polynomial and RBF or Gaussian kernel are simply different in case of making the hyperplane decision boundary between the classes. Linear Kernel is used when the data is Linearly separable, that is, it can be separated using a single Line. It may be because that the training feature data are non-linear and space over polynomials, so the polynomial svm would be the best model. "
   ]
  },
  {
   "cell_type": "code",
   "execution_count": 39,
   "metadata": {},
   "outputs": [
    {
     "data": {
      "text/plain": [
       "array([1, 0, 0, 1, 1, 1, 1, 0, 0, 1, 0, 0, 0, 0, 0, 1, 0, 1, 1, 0, 0, 0,\n",
       "       0, 0, 0, 0, 0, 0, 0, 1, 0, 1, 0, 1, 0, 0, 0, 1, 1, 0, 0, 0, 0, 0,\n",
       "       1, 0, 0, 0, 0, 0, 1, 1, 0, 1, 0, 1, 0, 1, 1, 1, 0, 1, 1, 0, 0, 1,\n",
       "       0, 0, 0, 1, 1, 1, 0, 1, 0, 0, 1, 1, 1, 1, 0, 1, 1, 0, 0, 0, 1, 1,\n",
       "       0, 0, 1, 0, 0, 0, 0, 0, 0, 0, 1, 0, 0, 0, 1, 0, 0, 0, 1, 0, 0, 0,\n",
       "       1, 0, 1, 0, 0, 0, 0, 0, 1, 0, 0, 1, 1, 1, 0, 0, 1, 0, 1, 0, 1, 1,\n",
       "       0, 0, 1, 1, 1, 0, 0, 1, 0, 1, 0, 0, 0, 1, 0, 0, 1, 0, 0, 0, 0, 0,\n",
       "       0, 0, 0, 1, 1, 1, 0, 0, 0, 1, 0, 0, 1, 1, 0, 0, 0, 1, 0, 1, 0, 0,\n",
       "       0, 1, 0, 0, 0, 0, 0, 0, 1, 1, 0, 0, 0, 1, 0, 0, 0, 0, 1, 1, 1, 0,\n",
       "       1, 0, 0, 1, 1, 1, 0, 1, 0, 0, 0, 0, 0, 0, 1, 0, 0, 0, 1, 0, 1, 0,\n",
       "       0, 1, 0, 0, 0, 1, 0, 1, 1, 1, 0, 1, 0, 1, 0, 1, 1, 0, 1, 0, 0, 1,\n",
       "       0, 0, 0, 0, 0, 0, 0, 1, 1, 0, 0, 0, 1, 0, 0, 1, 0, 1, 1, 1, 1, 0,\n",
       "       0, 0, 0, 0])"
      ]
     },
     "execution_count": 39,
     "metadata": {},
     "output_type": "execute_result"
    }
   ],
   "source": [
    "y_pred2 = clf2.predict(X_test)\n",
    "y_pred2"
   ]
  },
  {
   "cell_type": "code",
   "execution_count": 40,
   "metadata": {},
   "outputs": [],
   "source": [
    "y_pred2 = pd.DataFrame(y_pred2)"
   ]
  },
  {
   "cell_type": "code",
   "execution_count": 41,
   "metadata": {},
   "outputs": [],
   "source": [
    "y_pred2.to_csv('f0040sj_svm_prediction.csv',header=None, index=False)"
   ]
  }
 ],
 "metadata": {
  "kernelspec": {
   "display_name": "Python 3",
   "language": "python",
   "name": "python3"
  },
  "language_info": {
   "codemirror_mode": {
    "name": "ipython",
    "version": 3
   },
   "file_extension": ".py",
   "mimetype": "text/x-python",
   "name": "python",
   "nbconvert_exporter": "python",
   "pygments_lexer": "ipython3",
   "version": "3.7.4"
  }
 },
 "nbformat": 4,
 "nbformat_minor": 2
}
